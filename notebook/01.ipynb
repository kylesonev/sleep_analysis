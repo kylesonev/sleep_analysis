{
 "cells": [
  {
   "cell_type": "markdown",
   "id": "e086d32c",
   "metadata": {},
   "source": [
    "## Análise de Sono\n",
    "Durante x dias eu realizei a coleta e registro dos dados do meu sono. \n",
    "\n",
    "Foi utilizado o Smartwatch Redmi GTS 2 Mini para coletar os dados."
   ]
  },
  {
   "cell_type": "code",
   "execution_count": null,
   "id": "05fc851f",
   "metadata": {},
   "outputs": [],
   "source": [
    "import pandas as pd\n",
    "import matplotlib.pyplot as plt\n",
    "import seaborn as sns\n",
    "sns.set_theme()"
   ]
  },
  {
   "cell_type": "code",
   "execution_count": null,
   "id": "f3e6c7bc",
   "metadata": {},
   "outputs": [],
   "source": [
    "raw_data = pd.read_csv(\"../data/sleep_data.csv\")"
   ]
  },
  {
   "cell_type": "code",
   "execution_count": null,
   "id": "d3ce6136",
   "metadata": {},
   "outputs": [],
   "source": [
    "raw_data"
   ]
  },
  {
   "cell_type": "code",
   "execution_count": null,
   "id": "9a1b6121",
   "metadata": {},
   "outputs": [],
   "source": [
    "print(f\"Número de Linhas da Base de Dados: {raw_data.shape[0]}\")\n",
    "print(f\"Número de Colunas da Base de Dados: {raw_data.shape[1]}\")"
   ]
  },
  {
   "cell_type": "code",
   "execution_count": null,
   "id": "240366bf",
   "metadata": {},
   "outputs": [],
   "source": [
    "raw_data.isna().sum()"
   ]
  },
  {
   "cell_type": "code",
   "execution_count": null,
   "id": "7ed09ad3",
   "metadata": {},
   "outputs": [],
   "source": [
    "raw_data[\"Sono profundo (min)\"] = raw_data[\"Sono profundo\"].apply(lambda x: int(x.split(\":\")[0]) * 60 + int(x.split(\":\")[1]))\n",
    "raw_data[\"REM (min)\"] = raw_data[\"REM\"].apply(lambda x: int(x.split(\":\")[0]) * 60 + int(x.split(\":\")[1]))\n",
    "raw_data[\"Duração (min)\"] = raw_data[\"Duração\"].apply(lambda x: int(x.split(\":\")[0]) * 60 + int(x.split(\":\")[1]))"
   ]
  },
  {
   "cell_type": "code",
   "execution_count": null,
   "id": "51d06505",
   "metadata": {},
   "outputs": [],
   "source": [
    "raw_data[\"Sono leve (min)\"] = raw_data[\"Duração (min)\"] - raw_data[\"REM (min)\"] - raw_data[\"Sono profundo (min)\"]"
   ]
  },
  {
   "cell_type": "code",
   "execution_count": null,
   "id": "e35f2d57",
   "metadata": {},
   "outputs": [],
   "source": [
    "raw_data[\"%REM\"] = raw_data.apply(lambda x: round((x[\"REM (min)\"] / x[\"Duração (min)\"]) * 100, 2), axis=1)\n",
    "raw_data[\"%Sono profundo\"] = raw_data.apply(lambda x: round((x[\"Sono profundo (min)\"] / x[\"Duração (min)\"]) * 100, 2), axis=1)\n",
    "raw_data[\"%Sono leve\"] = raw_data.apply(lambda x: round((x[\"Sono leve (min)\"] / x[\"Duração (min)\"]) * 100, 2), axis=1)"
   ]
  },
  {
   "cell_type": "code",
   "execution_count": null,
   "id": "2627a8f2",
   "metadata": {},
   "outputs": [],
   "source": [
    "raw_data.head()"
   ]
  },
  {
   "cell_type": "code",
   "execution_count": null,
   "id": "cdfe93e9",
   "metadata": {},
   "outputs": [],
   "source": [
    "from datetime import datetime\n",
    "\n",
    "raw_data[\"Data\"] = pd.to_datetime(\n",
    "    raw_data[\"Data\"] + f\"/{datetime.now().year}\", \n",
    "    format=\"%d/%m/%Y\"\n",
    ")\n"
   ]
  },
  {
   "cell_type": "code",
   "execution_count": null,
   "id": "9fb6bd36",
   "metadata": {},
   "outputs": [],
   "source": [
    "raw_data[\"Data\"] = pd.to_datetime(raw_data[\"Data\"]).dt.date"
   ]
  },
  {
   "cell_type": "code",
   "execution_count": null,
   "id": "73e399b2",
   "metadata": {},
   "outputs": [],
   "source": [
    "raw_data"
   ]
  },
  {
   "cell_type": "code",
   "execution_count": null,
   "id": "c5ae6b17",
   "metadata": {},
   "outputs": [],
   "source": [
    "data = raw_data[[\"Data\", \"Dia da semana\", \"Pontuação\",\"Regularidade\", \n",
    "                 \"Duração (min)\", \"Sono leve (min)\",\"%Sono leve\", \n",
    "                 \"Sono profundo (min)\", \"%Sono profundo\", \"REM (min)\", \"%REM\", \n",
    "                 \"Tempo acordado\", \"Vezes acordado\"               \n",
    "]]"
   ]
  },
  {
   "cell_type": "code",
   "execution_count": null,
   "id": "079f3ece",
   "metadata": {},
   "outputs": [],
   "source": [
    "data.head()"
   ]
  },
  {
   "cell_type": "code",
   "execution_count": null,
   "id": "9e4de6c9",
   "metadata": {},
   "outputs": [],
   "source": [
    "metricas = [\"Pontuação\",\"Regularidade\", \n",
    "            \"Duração (min)\", \"Sono leve (min)\",\"%Sono leve\", \n",
    "            \"Sono profundo (min)\", \"%Sono profundo\", \"REM (min)\", \"%REM\", \n",
    "            \"Tempo acordado\", \"Vezes acordado\"]"
   ]
  },
  {
   "cell_type": "code",
   "execution_count": null,
   "id": "c5667088",
   "metadata": {},
   "outputs": [],
   "source": [
    "metricas"
   ]
  },
  {
   "cell_type": "code",
   "execution_count": null,
   "id": "828bbd6b",
   "metadata": {},
   "outputs": [],
   "source": [
    "for metrica in metricas:\n",
    "    Q1 = data[metrica].quantile(0.25)\n",
    "    Q3 = data[metrica].quantile(0.75)\n",
    "    IQR = Q3 - Q1\n",
    "    limite_inferior = Q1 - 1.5 * IQR\n",
    "    limite_superior = Q3 + 1.5 * IQR\n",
    "\n",
    "    outliers_mask = (data[metrica] < limite_inferior) | (data[metrica] > limite_superior)\n",
    "    outliers_df = data[outliers_mask].copy()\n",
    "    non_outliers_df = data[~outliers_mask].copy()\n",
    "\n",
    "    print(f\"\\nAnálise de Outliers - {metrica}\")\n",
    "    print(f\"• Primeiro Quartil (Q1): {Q1:.2f}\")\n",
    "    print(f\"• Terceiro Quartil (Q3): {Q3:.2f}\")\n",
    "    print(f\"• IQR: {IQR:.2f}\")\n",
    "    print(f\"• Limite Inferior: {limite_inferior:.2f}\")\n",
    "    print(f\"• Limite Superior: {limite_superior:.2f}\")\n",
    "    print(f\"• Outliers Detected: {len(outliers_df)}\")\n",
    "\n",
    "    plt.figure(figsize=(16, 8))\n",
    "\n",
    "    media = data[metrica].mean()\n",
    "\n",
    "    sns.scatterplot(x=non_outliers_df.index, y=non_outliers_df[metrica], color=\"skyblue\", label=\"Normal\", s=80)\n",
    "    sns.scatterplot(x=outliers_df.index, y=outliers_df[metrica], color=\"red\", label=\"Outliers\", s=100) \n",
    "    plt.axhline(limite_superior, color=\"red\", linestyle=\"--\")\n",
    "    plt.axhline(limite_inferior, color=\"red\", linestyle=\"--\")\n",
    "    plt.axhline(media, color=\"green\", linestyle=\"--\")\n",
    "\n",
    "    plt.title(f\"Distribuição de {metrica.capitalize()} com Outliers em destaque\")\n",
    "    plt.xlabel(\"Index\")\n",
    "    plt.ylabel(metrica)\n",
    "    plt.legend()\n",
    "    plt.tight_layout()\n",
    "    plt.show()"
   ]
  },
  {
   "cell_type": "code",
   "execution_count": null,
   "id": "e6a46f03",
   "metadata": {},
   "outputs": [],
   "source": [
    "for metrica in metricas:\n",
    "  plt.figure(figsize=(16, 8))\n",
    "  sns.histplot(data=raw_data, x=metrica, kde=True)"
   ]
  },
  {
   "cell_type": "code",
   "execution_count": null,
   "id": "9843443f",
   "metadata": {},
   "outputs": [],
   "source": [
    "figsize = (12, 1.2 * len(raw_data['Dia da semana'].unique()))\n",
    "plt.figure(figsize=figsize)\n",
    "sns.violinplot(raw_data, x='Pontuação', y='Dia da semana', inner='stick', palette='Dark2', hue='Dia da semana', legend=False)\n",
    "sns.despine(top=True, right=True, bottom=True, left=True)\n",
    "plt.show()"
   ]
  },
  {
   "cell_type": "code",
   "execution_count": null,
   "id": "bfc0f0a2",
   "metadata": {},
   "outputs": [],
   "source": [
    "media_pontuacao = raw_data[\"Pontuação\"].mean()\n",
    "media_pontuacao"
   ]
  },
  {
   "cell_type": "code",
   "execution_count": null,
   "id": "e95dea03",
   "metadata": {},
   "outputs": [],
   "source": [
    "plt.figure(figsize=(20, 10))\n",
    "sns.lineplot(data=data, x=\"Data\", y=\"Pontuação\")\n",
    "plt.axhline(media_pontuacao, color=\"red\", linestyle=\"--\")\n",
    "plt.xlabel(\"Índice\")\n",
    "plt.xticks([])\n",
    "plt.show()"
   ]
  },
  {
   "cell_type": "code",
   "execution_count": null,
   "id": "7c8e9d2d",
   "metadata": {},
   "outputs": [],
   "source": [
    "plt.figure(figsize=(16, 8))\n",
    "sns.heatmap(data[metricas].corr(),  annot=True, cmap=\"coolwarm\", center=0)\n",
    "plt.title(\"Correlação das Métricas\")\n",
    "plt.show()"
   ]
  },
  {
   "cell_type": "code",
   "execution_count": null,
   "id": "b8bda7c8",
   "metadata": {},
   "outputs": [],
   "source": [
    "composicao_sono = [\"Sono leve (min)\", \"Sono profundo (min)\", \"REM (min)\"]"
   ]
  },
  {
   "cell_type": "code",
   "execution_count": 24,
   "id": "753f493f",
   "metadata": {},
   "outputs": [
    {
     "data": {
      "image/png": "[encoded data removed]",
      "text/plain": [
       "<Figure size 2000x1000 with 1 Axes>"
      ]
     },
     "metadata": {},
     "output_type": "display_data"
    }
   ],
   "source": [
    "\n",
    "volume = data.groupby(\"Data\")[composicao_sono].sum()\n",
    "\n",
    "ax = volume.plot(\n",
    "    kind=\"bar\",\n",
    "    stacked=True,\n",
    "    figsize=(20, 10),\n",
    "    colormap=\"viridis\",\n",
    ")\n",
    "plt.title(\"Composição do Sono\")\n",
    "plt.xlabel(\"Dia\")\n",
    "plt.ylabel(\"Tempo (min)\")\n",
    "# plt.xticks(rotation=45, ha=\"right\")\n",
    "plt.legend(title=\"Etapas\")\n",
    "\n",
    "plt.tight_layout()\n",
    "plt.show()\n",
    "\n"
   ]
  },
  {
   "cell_type": "code",
   "execution_count": 25,
   "id": "77d0aec1",
   "metadata": {},
   "outputs": [
    {
     "data": {
      "text/html": [
       "<div>\n",
       "<style scoped>\n",
       "    .dataframe tbody tr th:only-of-type {\n",
       "        vertical-align: middle;\n",
       "    }\n",
       "\n",
       "    .dataframe tbody tr th {\n",
       "        vertical-align: top;\n",
       "    }\n",
       "\n",
       "    .dataframe thead th {\n",
       "        text-align: right;\n",
       "    }\n",
       "</style>\n",
       "<table border=\"1\" class=\"dataframe\">\n",
       "  <thead>\n",
       "    <tr style=\"text-align: right;\">\n",
       "      <th></th>\n",
       "      <th>Data</th>\n",
       "      <th>Dia da semana</th>\n",
       "      <th>Pontuação</th>\n",
       "      <th>Regularidade</th>\n",
       "      <th>Duração (min)</th>\n",
       "      <th>Sono leve (min)</th>\n",
       "      <th>%Sono leve</th>\n",
       "      <th>Sono profundo (min)</th>\n",
       "      <th>%Sono profundo</th>\n",
       "      <th>REM (min)</th>\n",
       "      <th>%REM</th>\n",
       "      <th>Tempo acordado</th>\n",
       "      <th>Vezes acordado</th>\n",
       "    </tr>\n",
       "  </thead>\n",
       "  <tbody>\n",
       "    <tr>\n",
       "      <th>1</th>\n",
       "      <td>2025-05-02</td>\n",
       "      <td>sexta-feira</td>\n",
       "      <td>93</td>\n",
       "      <td>90</td>\n",
       "      <td>464</td>\n",
       "      <td>314</td>\n",
       "      <td>67.67</td>\n",
       "      <td>80</td>\n",
       "      <td>17.24</td>\n",
       "      <td>70</td>\n",
       "      <td>15.09</td>\n",
       "      <td>6</td>\n",
       "      <td>1</td>\n",
       "    </tr>\n",
       "    <tr>\n",
       "      <th>52</th>\n",
       "      <td>2025-06-22</td>\n",
       "      <td>domingo</td>\n",
       "      <td>91</td>\n",
       "      <td>80</td>\n",
       "      <td>501</td>\n",
       "      <td>343</td>\n",
       "      <td>68.46</td>\n",
       "      <td>82</td>\n",
       "      <td>16.37</td>\n",
       "      <td>76</td>\n",
       "      <td>15.17</td>\n",
       "      <td>11</td>\n",
       "      <td>1</td>\n",
       "    </tr>\n",
       "    <tr>\n",
       "      <th>12</th>\n",
       "      <td>2025-05-13</td>\n",
       "      <td>terça-feira</td>\n",
       "      <td>90</td>\n",
       "      <td>75</td>\n",
       "      <td>385</td>\n",
       "      <td>242</td>\n",
       "      <td>62.86</td>\n",
       "      <td>75</td>\n",
       "      <td>19.48</td>\n",
       "      <td>68</td>\n",
       "      <td>17.66</td>\n",
       "      <td>0</td>\n",
       "      <td>0</td>\n",
       "    </tr>\n",
       "    <tr>\n",
       "      <th>5</th>\n",
       "      <td>2025-05-06</td>\n",
       "      <td>terça-feira</td>\n",
       "      <td>89</td>\n",
       "      <td>88</td>\n",
       "      <td>420</td>\n",
       "      <td>269</td>\n",
       "      <td>64.05</td>\n",
       "      <td>66</td>\n",
       "      <td>15.71</td>\n",
       "      <td>85</td>\n",
       "      <td>20.24</td>\n",
       "      <td>8</td>\n",
       "      <td>2</td>\n",
       "    </tr>\n",
       "    <tr>\n",
       "      <th>47</th>\n",
       "      <td>2025-06-17</td>\n",
       "      <td>terça-feira</td>\n",
       "      <td>89</td>\n",
       "      <td>74</td>\n",
       "      <td>428</td>\n",
       "      <td>250</td>\n",
       "      <td>58.41</td>\n",
       "      <td>89</td>\n",
       "      <td>20.79</td>\n",
       "      <td>89</td>\n",
       "      <td>20.79</td>\n",
       "      <td>4</td>\n",
       "      <td>1</td>\n",
       "    </tr>\n",
       "  </tbody>\n",
       "</table>\n",
       "</div>"
      ],
      "text/plain": [
       "          Data Dia da semana  Pontuação  Regularidade  Duração (min)  \\\n",
       "1   2025-05-02   sexta-feira         93            90            464   \n",
       "52  2025-06-22       domingo         91            80            501   \n",
       "12  2025-05-13   terça-feira         90            75            385   \n",
       "5   2025-05-06   terça-feira         89            88            420   \n",
       "47  2025-06-17   terça-feira         89            74            428   \n",
       "\n",
       "    Sono leve (min)  %Sono leve  Sono profundo (min)  %Sono profundo  \\\n",
       "1               314       67.67                   80           17.24   \n",
       "52              343       68.46                   82           16.37   \n",
       "12              242       62.86                   75           19.48   \n",
       "5               269       64.05                   66           15.71   \n",
       "47              250       58.41                   89           20.79   \n",
       "\n",
       "    REM (min)   %REM  Tempo acordado  Vezes acordado  \n",
       "1          70  15.09               6               1  \n",
       "52         76  15.17              11               1  \n",
       "12         68  17.66               0               0  \n",
       "5          85  20.24               8               2  \n",
       "47         89  20.79               4               1  "
      ]
     },
     "execution_count": 25,
     "metadata": {},
     "output_type": "execute_result"
    }
   ],
   "source": [
    "data_ordenado = data.sort_values(by=\"Pontuação\", ascending=False)\n",
    "data_ordenado.head()"
   ]
  }
 ],
 "metadata": {
  "kernelspec": {
   "display_name": "venv",
   "language": "python",
   "name": "python3"
  },
  "language_info": {
   "codemirror_mode": {
    "name": "ipython",
    "version": 3
   },
   "file_extension": ".py",
   "mimetype": "text/x-python",
   "name": "python",
   "nbconvert_exporter": "python",
   "pygments_lexer": "ipython3",
   "version": "3.13.7"
  }
 },
 "nbformat": 4,
 "nbformat_minor": 5
}

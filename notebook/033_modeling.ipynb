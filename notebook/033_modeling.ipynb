{
 "cells": [
  {
   "cell_type": "code",
   "execution_count": 31,
   "id": "f1e4d0ac",
   "metadata": {},
   "outputs": [],
   "source": [
    "import pandas as pd\n",
    "import numpy as np\n",
    "import matplotlib.pyplot as plt\n",
    "import seaborn as sns\n",
    "\n",
    "from sklearn.model_selection import RepeatedKFold, cross_val_score, train_test_split, RandomizedSearchCV\n",
    "from sklearn.preprocessing import StandardScaler\n",
    "from sklearn.compose import ColumnTransformer\n",
    "from sklearn.pipeline import Pipeline\n",
    "from sklearn.metrics import mean_absolute_error, mean_squared_error, r2_score\n",
    " \n",
    "from sklearn.linear_model import LinearRegression, Ridge, Lasso\n",
    "from sklearn.ensemble import RandomForestRegressor, HistGradientBoostingRegressor\n",
    "sns.set_theme()"
   ]
  },
  {
   "cell_type": "code",
   "execution_count": 32,
   "id": "a284c433",
   "metadata": {},
   "outputs": [],
   "source": [
    "# Carregar\n",
    "data = pd.read_csv(\"../data/cleaned.csv\", parse_dates=[\"data\"])\n",
    "\n",
    "# Criar features temporais\n",
    "data['data'] = pd.to_datetime(data['data'])\n",
    "data['dia_semana'] = data['data'].dt.dayofweek \n",
    "data['ds_sin'] = np.sin(2*np.pi*data['dia_semana']/7)\n",
    "data['ds_cos'] = np.cos(2*np.pi*data['dia_semana']/7)\n",
    "# data['mes'] = data['data'].dt.month\n",
    "# data['mes_sin'] = np.sin(2*np.pi*(data['mes']-1)/12)\n",
    "# data['mes_cos'] = np.cos(2*np.pi*(data['mes']-1)/12)\n",
    "\n",
    "data['fim_de_semana'] = data['dia_semana'].isin([5,6]).astype(int)\n",
    "\n",
    "# Definir target e features\n",
    "y = data[\"pontuacao\"]\n",
    "\n",
    "num_cols = [\n",
    "    \"regularidade\",\"duracao\",\"sono_leve_perc\",\"sono_profundo_perc\",\"REM_perc\",\n",
    "    \"tempo_acordado\",\"vezes_acordado\", \"ds_sin\",\"ds_cos\",\"fim_de_semana\"\n",
    "]\n",
    "\n",
    "X = data[num_cols]\n"
   ]
  },
  {
   "cell_type": "code",
   "execution_count": 33,
   "id": "f84e93df",
   "metadata": {},
   "outputs": [
    {
     "data": {
      "text/html": [
       "<div>\n",
       "<style scoped>\n",
       "    .dataframe tbody tr th:only-of-type {\n",
       "        vertical-align: middle;\n",
       "    }\n",
       "\n",
       "    .dataframe tbody tr th {\n",
       "        vertical-align: top;\n",
       "    }\n",
       "\n",
       "    .dataframe thead th {\n",
       "        text-align: right;\n",
       "    }\n",
       "</style>\n",
       "<table border=\"1\" class=\"dataframe\">\n",
       "  <thead>\n",
       "    <tr style=\"text-align: right;\">\n",
       "      <th></th>\n",
       "      <th>regularidade</th>\n",
       "      <th>duracao</th>\n",
       "      <th>sono_leve_perc</th>\n",
       "      <th>sono_profundo_perc</th>\n",
       "      <th>REM_perc</th>\n",
       "      <th>tempo_acordado</th>\n",
       "      <th>vezes_acordado</th>\n",
       "      <th>ds_sin</th>\n",
       "      <th>ds_cos</th>\n",
       "      <th>fim_de_semana</th>\n",
       "    </tr>\n",
       "  </thead>\n",
       "  <tbody>\n",
       "    <tr>\n",
       "      <th>0</th>\n",
       "      <td>90</td>\n",
       "      <td>478</td>\n",
       "      <td>70.50</td>\n",
       "      <td>8.16</td>\n",
       "      <td>21.34</td>\n",
       "      <td>6</td>\n",
       "      <td>3</td>\n",
       "      <td>0.433884</td>\n",
       "      <td>-0.900969</td>\n",
       "      <td>0</td>\n",
       "    </tr>\n",
       "    <tr>\n",
       "      <th>1</th>\n",
       "      <td>90</td>\n",
       "      <td>464</td>\n",
       "      <td>67.67</td>\n",
       "      <td>17.24</td>\n",
       "      <td>15.09</td>\n",
       "      <td>6</td>\n",
       "      <td>1</td>\n",
       "      <td>-0.433884</td>\n",
       "      <td>-0.900969</td>\n",
       "      <td>0</td>\n",
       "    </tr>\n",
       "    <tr>\n",
       "      <th>2</th>\n",
       "      <td>90</td>\n",
       "      <td>539</td>\n",
       "      <td>66.79</td>\n",
       "      <td>15.40</td>\n",
       "      <td>17.81</td>\n",
       "      <td>12</td>\n",
       "      <td>4</td>\n",
       "      <td>-0.974928</td>\n",
       "      <td>-0.222521</td>\n",
       "      <td>1</td>\n",
       "    </tr>\n",
       "    <tr>\n",
       "      <th>3</th>\n",
       "      <td>95</td>\n",
       "      <td>515</td>\n",
       "      <td>65.63</td>\n",
       "      <td>13.98</td>\n",
       "      <td>20.39</td>\n",
       "      <td>29</td>\n",
       "      <td>4</td>\n",
       "      <td>-0.781831</td>\n",
       "      <td>0.623490</td>\n",
       "      <td>1</td>\n",
       "    </tr>\n",
       "    <tr>\n",
       "      <th>4</th>\n",
       "      <td>89</td>\n",
       "      <td>428</td>\n",
       "      <td>60.28</td>\n",
       "      <td>16.82</td>\n",
       "      <td>22.90</td>\n",
       "      <td>15</td>\n",
       "      <td>2</td>\n",
       "      <td>0.000000</td>\n",
       "      <td>1.000000</td>\n",
       "      <td>0</td>\n",
       "    </tr>\n",
       "    <tr>\n",
       "      <th>5</th>\n",
       "      <td>88</td>\n",
       "      <td>420</td>\n",
       "      <td>64.05</td>\n",
       "      <td>15.71</td>\n",
       "      <td>20.24</td>\n",
       "      <td>8</td>\n",
       "      <td>2</td>\n",
       "      <td>0.781831</td>\n",
       "      <td>0.623490</td>\n",
       "      <td>0</td>\n",
       "    </tr>\n",
       "    <tr>\n",
       "      <th>6</th>\n",
       "      <td>88</td>\n",
       "      <td>408</td>\n",
       "      <td>59.07</td>\n",
       "      <td>20.59</td>\n",
       "      <td>20.34</td>\n",
       "      <td>16</td>\n",
       "      <td>2</td>\n",
       "      <td>0.974928</td>\n",
       "      <td>-0.222521</td>\n",
       "      <td>0</td>\n",
       "    </tr>\n",
       "  </tbody>\n",
       "</table>\n",
       "</div>"
      ],
      "text/plain": [
       "   regularidade  duracao  sono_leve_perc  sono_profundo_perc  REM_perc  \\\n",
       "0            90      478           70.50                8.16     21.34   \n",
       "1            90      464           67.67               17.24     15.09   \n",
       "2            90      539           66.79               15.40     17.81   \n",
       "3            95      515           65.63               13.98     20.39   \n",
       "4            89      428           60.28               16.82     22.90   \n",
       "5            88      420           64.05               15.71     20.24   \n",
       "6            88      408           59.07               20.59     20.34   \n",
       "\n",
       "   tempo_acordado  vezes_acordado    ds_sin    ds_cos  fim_de_semana  \n",
       "0               6               3  0.433884 -0.900969              0  \n",
       "1               6               1 -0.433884 -0.900969              0  \n",
       "2              12               4 -0.974928 -0.222521              1  \n",
       "3              29               4 -0.781831  0.623490              1  \n",
       "4              15               2  0.000000  1.000000              0  \n",
       "5               8               2  0.781831  0.623490              0  \n",
       "6              16               2  0.974928 -0.222521              0  "
      ]
     },
     "execution_count": 33,
     "metadata": {},
     "output_type": "execute_result"
    }
   ],
   "source": [
    "X.head(7)"
   ]
  },
  {
   "cell_type": "code",
   "execution_count": 34,
   "id": "5f1376a8",
   "metadata": {},
   "outputs": [],
   "source": [
    "# Apenas numéricas, então aplicamos escalonamento (bom p/ regressões lineares)\n",
    "preproc = ColumnTransformer([\n",
    "    ('num', StandardScaler(), num_cols)\n",
    "])"
   ]
  },
  {
   "cell_type": "code",
   "execution_count": 35,
   "id": "c1a4fb43",
   "metadata": {},
   "outputs": [],
   "source": [
    "# Pequeno dataset -> usar RepeatedKFold para mais estabilidade\n",
    "cv = RepeatedKFold(n_splits=5, n_repeats=10, random_state=42)\n"
   ]
  },
  {
   "cell_type": "markdown",
   "id": "6f93a35f",
   "metadata": {},
   "source": [
    "## Lasso"
   ]
  },
  {
   "cell_type": "code",
   "execution_count": 36,
   "id": "18428e9d",
   "metadata": {},
   "outputs": [
    {
     "name": "stdout",
     "output_type": "stream",
     "text": [
      "Melhores hiperparâmetros Lasso: {'model__max_iter': 2000, 'model__alpha': 0.1}\n",
      "MAE (CV): 3.280835307535674\n"
     ]
    }
   ],
   "source": [
    "lasso_pipeline = Pipeline([\n",
    "    (\"preproc\", preproc),\n",
    "    (\"model\", Lasso(random_state=42))\n",
    "])\n",
    "\n",
    "param_dist = {\n",
    "    \"model__alpha\": [0.01, 0.1, 1.0, 10],\n",
    "    \"model__max_iter\": [500, 1000, 2000]\n",
    "}\n",
    "\n",
    "search_lasso = RandomizedSearchCV(\n",
    "    lasso_pipeline, param_distributions=param_dist,\n",
    "    n_iter=10, cv=cv, scoring=\"neg_mean_absolute_error\",\n",
    "    random_state=42, n_jobs=-1\n",
    ")\n",
    "\n",
    "search_lasso.fit(X, y)\n",
    "best_lasso = search_lasso.best_estimator_\n",
    "print(\"Melhores hiperparâmetros Lasso:\", search_lasso.best_params_)\n",
    "print(\"MAE (CV):\", -search_lasso.best_score_)"
   ]
  },
  {
   "cell_type": "code",
   "execution_count": 37,
   "id": "3007ffc4",
   "metadata": {},
   "outputs": [],
   "source": [
    "# def optimize_model(model, param_dist, model_name, X, y):\n",
    "#     \"\"\"Função simplificada para otimização de modelos\"\"\"\n",
    "#     pipeline = Pipeline([\n",
    "#         (\"preproc\", preproc),\n",
    "#         (\"model\", model)\n",
    "#     ])\n",
    "    \n",
    "#     search = RandomizedSearchCV(\n",
    "#         pipeline, param_distributions=param_dist,\n",
    "#         n_iter=10, cv=cv, scoring=\"neg_mean_absolute_error\",\n",
    "#         random_state=42, n_jobs=-1\n",
    "#     )\n",
    "    \n",
    "#     search.fit(X, y)\n",
    "#     best_model = search.best_estimator_\n",
    "#     best_mae = -search.best_score_\n",
    "    \n",
    "#     print(f\"Melhores hiperparâmetros {model_name}: {search.best_params_}\")\n",
    "#     print(f\"MAE (CV): {best_mae:.4f}\\n\")\n",
    "    \n",
    "#     return best_model, best_mae"
   ]
  },
  {
   "cell_type": "code",
   "execution_count": 38,
   "id": "927d0dc9",
   "metadata": {},
   "outputs": [],
   "source": [
    "# lasso_model, mae_lasso = optimize_model(\n",
    "#     model=Lasso(random_state=42),\n",
    "#     param_dist={\"model__alpha\": [0.01, 0.1, 1.0, 10], \n",
    "#                 \"model__max_iter\": [500, 1000, 2000]},\n",
    "#     model_name=\"Lasso\", \n",
    "#     X=X, \n",
    "#     y=y\n",
    "# )"
   ]
  },
  {
   "cell_type": "code",
   "execution_count": 39,
   "id": "2fb1552e",
   "metadata": {},
   "outputs": [],
   "source": [
    "\n",
    "# linear_pipeline = Pipeline([\n",
    "#     (\"preproc\", preproc),\n",
    "#     (\"model\", LinearRegression())\n",
    "# ])\n",
    "\n",
    "# linear_pipeline.fit(X, y)\n",
    "# # Esse já é o modelo final\n",
    "# print(linear_pipeline.named_steps[\"model\"])\n"
   ]
  },
  {
   "cell_type": "markdown",
   "id": "d477ea7c",
   "metadata": {},
   "source": [
    "## Ridge"
   ]
  },
  {
   "cell_type": "code",
   "execution_count": 40,
   "id": "ca8d2f6a",
   "metadata": {},
   "outputs": [
    {
     "name": "stdout",
     "output_type": "stream",
     "text": [
      "Melhores hiperparâmetros Ridge: {'model__solver': 'lsqr', 'model__alpha': 10.0}\n",
      "MAE (CV): 3.3174668926053927\n"
     ]
    }
   ],
   "source": [
    "from sklearn.linear_model import Ridge\n",
    "\n",
    "ridge_pipeline = Pipeline([\n",
    "    (\"preproc\", preproc),\n",
    "    (\"model\", Ridge(random_state=42))\n",
    "])\n",
    "\n",
    "param_dist = {\n",
    "    \"model__alpha\": [0.1, 1.0, 10.0, 50],\n",
    "    \"model__solver\": [\"auto\", \"svd\", \"cholesky\", \"lsqr\"]\n",
    "}\n",
    "\n",
    "search_ridge = RandomizedSearchCV(\n",
    "    ridge_pipeline, param_distributions=param_dist,\n",
    "    n_iter=10, cv=cv, scoring=\"neg_mean_absolute_error\",\n",
    "    random_state=42, n_jobs=-1\n",
    ")\n",
    "\n",
    "search_ridge.fit(X, y)\n",
    "best_ridge = search_ridge.best_estimator_\n",
    "print(\"Melhores hiperparâmetros Ridge:\", search_ridge.best_params_)\n",
    "print(\"MAE (CV):\", -search_ridge.best_score_)\n"
   ]
  },
  {
   "cell_type": "code",
   "execution_count": 41,
   "id": "f28b97f7",
   "metadata": {},
   "outputs": [],
   "source": [
    "# ridge_model, mae_ridge = optimize_model(\n",
    "#     model=Ridge(random_state=42),\n",
    "#     param_dist={\n",
    "#         \"model__alpha\": [0.1, 1.0, 10.0, 50],\n",
    "#         \"model__solver\": [\"auto\", \"svd\", \"cholesky\", \"lsqr\"]\n",
    "#     },\n",
    "#     model_name=\"Ridge\", \n",
    "#     X=X, \n",
    "#     y=y\n",
    "# )"
   ]
  },
  {
   "cell_type": "markdown",
   "id": "9b5057ce",
   "metadata": {},
   "source": [
    "## HGB"
   ]
  },
  {
   "cell_type": "code",
   "execution_count": 42,
   "id": "b0a7dc26",
   "metadata": {},
   "outputs": [
    {
     "name": "stdout",
     "output_type": "stream",
     "text": [
      "Melhores hiperparâmetros HGB: {'model__min_samples_leaf': 20, 'model__max_iter': 100, 'model__max_depth': 5, 'model__learning_rate': 0.1}\n",
      "MAE (CV): 3.287400951170324\n"
     ]
    }
   ],
   "source": [
    "from sklearn.ensemble import HistGradientBoostingRegressor\n",
    "\n",
    "hgb_pipeline = Pipeline([\n",
    "    (\"preproc\", preproc),\n",
    "    (\"model\", HistGradientBoostingRegressor(random_state=42))\n",
    "])\n",
    "\n",
    "param_dist = {\n",
    "    \"model__max_iter\": [100, 300, 500],\n",
    "    \"model__max_depth\": [3, 5, 10, None],\n",
    "    \"model__min_samples_leaf\": [20, 50, 100],\n",
    "    \"model__learning_rate\": [0.01, 0.1, 0.2]\n",
    "}\n",
    "\n",
    "search_hgb = RandomizedSearchCV(\n",
    "    hgb_pipeline, param_distributions=param_dist,\n",
    "    n_iter=20, cv=cv, scoring=\"neg_mean_absolute_error\",\n",
    "    random_state=42, n_jobs=-1\n",
    ")\n",
    "\n",
    "search_hgb.fit(X, y)\n",
    "best_hgb = search_hgb.best_estimator_\n",
    "print(\"Melhores hiperparâmetros HGB:\", search_hgb.best_params_)\n",
    "print(\"MAE (CV):\", -search_hgb.best_score_)\n"
   ]
  },
  {
   "cell_type": "code",
   "execution_count": 43,
   "id": "2a22e6e6",
   "metadata": {},
   "outputs": [
    {
     "data": {
      "text/html": [
       "<div>\n",
       "<style scoped>\n",
       "    .dataframe tbody tr th:only-of-type {\n",
       "        vertical-align: middle;\n",
       "    }\n",
       "\n",
       "    .dataframe tbody tr th {\n",
       "        vertical-align: top;\n",
       "    }\n",
       "\n",
       "    .dataframe thead th {\n",
       "        text-align: right;\n",
       "    }\n",
       "</style>\n",
       "<table border=\"1\" class=\"dataframe\">\n",
       "  <thead>\n",
       "    <tr style=\"text-align: right;\">\n",
       "      <th></th>\n",
       "      <th>MAE</th>\n",
       "    </tr>\n",
       "  </thead>\n",
       "  <tbody>\n",
       "    <tr>\n",
       "      <th>HistGradientBoosting</th>\n",
       "      <td>3.287401</td>\n",
       "    </tr>\n",
       "    <tr>\n",
       "      <th>Ridge</th>\n",
       "      <td>3.325864</td>\n",
       "    </tr>\n",
       "    <tr>\n",
       "      <th>Lasso</th>\n",
       "      <td>3.332223</td>\n",
       "    </tr>\n",
       "    <tr>\n",
       "      <th>Linear</th>\n",
       "      <td>3.379519</td>\n",
       "    </tr>\n",
       "    <tr>\n",
       "      <th>RandomForest</th>\n",
       "      <td>3.689107</td>\n",
       "    </tr>\n",
       "  </tbody>\n",
       "</table>\n",
       "</div>"
      ],
      "text/plain": [
       "                           MAE\n",
       "HistGradientBoosting  3.287401\n",
       "Ridge                 3.325864\n",
       "Lasso                 3.332223\n",
       "Linear                3.379519\n",
       "RandomForest          3.689107"
      ]
     },
     "execution_count": 43,
     "metadata": {},
     "output_type": "execute_result"
    }
   ],
   "source": [
    "models = {\n",
    "    \"Linear\": LinearRegression(),\n",
    "    \"Ridge\": Ridge(alpha=1.0),\n",
    "    \"Lasso\": Lasso(alpha=0.01),\n",
    "    \"RandomForest\": RandomForestRegressor(random_state=42),\n",
    "    \"HistGradientBoosting\": HistGradientBoostingRegressor(random_state=42)\n",
    "}\n",
    "\n",
    "results = {}\n",
    "\n",
    "for name, model in models.items():\n",
    "    pipeline = Pipeline([\n",
    "        (\"preproc\", preproc),\n",
    "        (\"model\", model)\n",
    "    ])\n",
    "    scores = cross_val_score(pipeline, X, y, cv=cv, scoring=\"neg_mean_absolute_error\")\n",
    "    results[name] = -scores.mean()\n",
    "\n",
    "pd.DataFrame.from_dict(results, orient=\"index\", columns=[\"MAE\"]).sort_values(\"MAE\")\n"
   ]
  },
  {
   "cell_type": "markdown",
   "id": "02b064fd",
   "metadata": {},
   "source": [
    "## RandomForest"
   ]
  },
  {
   "cell_type": "code",
   "execution_count": 44,
   "id": "8b584b30",
   "metadata": {},
   "outputs": [
    {
     "name": "stdout",
     "output_type": "stream",
     "text": [
      "Melhores hiperparâmetros: {'model__n_estimators': 500, 'model__min_samples_leaf': 1, 'model__max_features': 'sqrt', 'model__max_depth': 20}\n",
      "MAE (CV): 3.418738857142856\n"
     ]
    }
   ],
   "source": [
    "rf_pipeline = Pipeline([\n",
    "    (\"preproc\", preproc),\n",
    "    (\"model\", RandomForestRegressor(random_state=42))\n",
    "])\n",
    "\n",
    "param_dist = {\n",
    "    \"model__n_estimators\": [100, 300, 500],\n",
    "    \"model__max_depth\": [None, 5, 10, 20],\n",
    "    \"model__min_samples_leaf\": [1, 2, 4],\n",
    "    \"model__max_features\": [\"sqrt\", \"log2\", 0.5]\n",
    "}\n",
    "\n",
    "search = RandomizedSearchCV(\n",
    "    rf_pipeline, param_distributions=param_dist,\n",
    "    n_iter=20, cv=cv, scoring=\"neg_mean_absolute_error\",\n",
    "    random_state=42, n_jobs=-1\n",
    ")\n",
    "\n",
    "search.fit(X, y)\n",
    "print(\"Melhores hiperparâmetros:\", search.best_params_)\n",
    "print(\"MAE (CV):\", -search.best_score_)\n",
    "best_model = search.best_estimator_\n"
   ]
  },
  {
   "cell_type": "code",
   "execution_count": 50,
   "id": "c9ad52b5",
   "metadata": {},
   "outputs": [
    {
     "name": "stdout",
     "output_type": "stream",
     "text": [
      "=== LINEAR REGRESSION - TEST SET ===\n",
      "MAE: 3.9719\n",
      "MSE: 23.7696\n",
      "RMSE: 4.8754\n",
      "R²: 0.6576\n"
     ]
    }
   ],
   "source": [
    "# Para Linear Regression - avaliação completa no test set\n",
    "X_train, X_test, y_train, y_test = train_test_split(\n",
    "    X, y, test_size=0.2, random_state=42, \n",
    ")\n",
    "\n",
    "# Treinar e avaliar Linear Regression\n",
    "linear_pipeline.fit(X_train, y_train)\n",
    "y_pred_linear = linear_pipeline.predict(X_test)\n",
    "\n",
    "# Calcular todas as métricas\n",
    "mae_linear = mean_absolute_error(y_test, y_pred_linear)\n",
    "mse_linear = mean_squared_error(y_test, y_pred_linear)\n",
    "rmse_linear = np.sqrt(mse_linear)\n",
    "r2_linear = r2_score(y_test, y_pred_linear)\n",
    "\n",
    "# Imprimir resultados\n",
    "print(\"=== LINEAR REGRESSION - TEST SET ===\")\n",
    "print(f\"MAE: {mae_linear:.4f}\")\n",
    "print(f\"MSE: {mse_linear:.4f}\")\n",
    "print(f\"RMSE: {rmse_linear:.4f}\")\n",
    "print(f\"R²: {r2_linear:.4f}\")\n",
    "\n"
   ]
  },
  {
   "cell_type": "code",
   "execution_count": 45,
   "id": "98f5d12d",
   "metadata": {},
   "outputs": [
    {
     "name": "stdout",
     "output_type": "stream",
     "text": [
      "MAE: 4.795866666666667\n",
      "MSE: 31.133720800000003\n",
      "RMSE: 5.579759923150816\n",
      "R²: 0.5515309103713187\n"
     ]
    },
    {
     "data": {
      "image/png": "[encoded data removed]",
      "text/plain": [
       "<Figure size 640x480 with 1 Axes>"
      ]
     },
     "metadata": {},
     "output_type": "display_data"
    }
   ],
   "source": [
    "X_train, X_test, y_train, y_test = train_test_split(X, y, test_size=0.2, random_state=42)\n",
    "\n",
    "best_model.fit(X_train, y_train)\n",
    "y_pred = best_model.predict(X_test)\n",
    "mae = mean_absolute_error(y_test, y_pred)\n",
    "mse = mean_squared_error(y_test, y_pred)\n",
    "rmse = np.sqrt(mse)\n",
    "r2_score1 = r2_score(y_test, y_pred) \n",
    "\n",
    "print(f\"MAE: {mae}\")\n",
    "print(f\"MSE: {mse}\")\n",
    "print(f\"RMSE: {rmse}\")\n",
    "print(f\"R²: {r2_score1}\")\n",
    "\n",
    "plt.scatter(y_test, y_pred)\n",
    "plt.xlabel(\"Valor real\")\n",
    "plt.ylabel(\"Predição\")\n",
    "plt.title(\"Predição vs Real\")\n",
    "plt.plot([y_test.min(), y_test.max()], [y_test.min(), y_test.max()], \"r--\")\n",
    "plt.show()\n"
   ]
  },
  {
   "cell_type": "code",
   "execution_count": 46,
   "id": "17114468",
   "metadata": {},
   "outputs": [
    {
     "data": {
      "image/png": "[encoded data removed]",
      "text/plain": [
       "<Figure size 640x480 with 1 Axes>"
      ]
     },
     "metadata": {},
     "output_type": "display_data"
    }
   ],
   "source": [
    "if hasattr(best_model.named_steps[\"model\"], \"feature_importances_\"):\n",
    "    importances = best_model.named_steps[\"model\"].feature_importances_\n",
    "    feat_imp = pd.DataFrame({\n",
    "        \"feature\": num_cols,\n",
    "        \"importance\": importances\n",
    "    }).sort_values(\"importance\", ascending=False)\n",
    "    sns.barplot(data=feat_imp, x=\"importance\", y=\"feature\")\n",
    "    plt.title(\"Importância das variáveis\")\n",
    "    plt.show()\n"
   ]
  }
 ],
 "metadata": {
  "kernelspec": {
   "display_name": "venv",
   "language": "python",
   "name": "python3"
  },
  "language_info": {
   "codemirror_mode": {
    "name": "ipython",
    "version": 3
   },
   "file_extension": ".py",
   "mimetype": "text/x-python",
   "name": "python",
   "nbconvert_exporter": "python",
   "pygments_lexer": "ipython3",
   "version": "3.13.7"
  }
 },
 "nbformat": 4,
 "nbformat_minor": 5
}

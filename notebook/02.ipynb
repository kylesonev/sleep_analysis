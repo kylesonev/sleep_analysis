{
 "cells": [
  {
   "cell_type": "code",
   "execution_count": 1,
   "id": "6cca4118",
   "metadata": {},
   "outputs": [],
   "source": [
    "import pandas as pd\n",
    "import matplotlib.pyplot as plt"
   ]
  },
  {
   "cell_type": "code",
   "execution_count": 2,
   "id": "7254918e",
   "metadata": {},
   "outputs": [],
   "source": [
    "data = pd.read_csv(\"../data/cleaned.csv\")"
   ]
  },
  {
   "cell_type": "code",
   "execution_count": 3,
   "id": "8eb0dc8b",
   "metadata": {},
   "outputs": [
    {
     "data": {
      "text/html": [
       "<div>\n",
       "<style scoped>\n",
       "    .dataframe tbody tr th:only-of-type {\n",
       "        vertical-align: middle;\n",
       "    }\n",
       "\n",
       "    .dataframe tbody tr th {\n",
       "        vertical-align: top;\n",
       "    }\n",
       "\n",
       "    .dataframe thead th {\n",
       "        text-align: right;\n",
       "    }\n",
       "</style>\n",
       "<table border=\"1\" class=\"dataframe\">\n",
       "  <thead>\n",
       "    <tr style=\"text-align: right;\">\n",
       "      <th></th>\n",
       "      <th>Data</th>\n",
       "      <th>Dia da semana</th>\n",
       "      <th>Pontuação</th>\n",
       "      <th>Regularidade</th>\n",
       "      <th>Duração (min)</th>\n",
       "      <th>Sono leve (min)</th>\n",
       "      <th>%Sono leve</th>\n",
       "      <th>Sono profundo (min)</th>\n",
       "      <th>%Sono profundo</th>\n",
       "      <th>REM (min)</th>\n",
       "      <th>%REM</th>\n",
       "      <th>Tempo acordado</th>\n",
       "      <th>Vezes acordado</th>\n",
       "    </tr>\n",
       "  </thead>\n",
       "  <tbody>\n",
       "    <tr>\n",
       "      <th>0</th>\n",
       "      <td>2025-05-01</td>\n",
       "      <td>quinta-feira</td>\n",
       "      <td>72</td>\n",
       "      <td>90</td>\n",
       "      <td>478</td>\n",
       "      <td>337</td>\n",
       "      <td>70.50</td>\n",
       "      <td>39</td>\n",
       "      <td>8.16</td>\n",
       "      <td>102</td>\n",
       "      <td>21.34</td>\n",
       "      <td>6</td>\n",
       "      <td>3</td>\n",
       "    </tr>\n",
       "    <tr>\n",
       "      <th>1</th>\n",
       "      <td>2025-05-02</td>\n",
       "      <td>sexta-feira</td>\n",
       "      <td>93</td>\n",
       "      <td>90</td>\n",
       "      <td>464</td>\n",
       "      <td>314</td>\n",
       "      <td>67.67</td>\n",
       "      <td>80</td>\n",
       "      <td>17.24</td>\n",
       "      <td>70</td>\n",
       "      <td>15.09</td>\n",
       "      <td>6</td>\n",
       "      <td>1</td>\n",
       "    </tr>\n",
       "    <tr>\n",
       "      <th>2</th>\n",
       "      <td>2025-05-03</td>\n",
       "      <td>sábado</td>\n",
       "      <td>80</td>\n",
       "      <td>90</td>\n",
       "      <td>539</td>\n",
       "      <td>360</td>\n",
       "      <td>66.79</td>\n",
       "      <td>83</td>\n",
       "      <td>15.40</td>\n",
       "      <td>96</td>\n",
       "      <td>17.81</td>\n",
       "      <td>12</td>\n",
       "      <td>4</td>\n",
       "    </tr>\n",
       "    <tr>\n",
       "      <th>3</th>\n",
       "      <td>2025-05-04</td>\n",
       "      <td>domingo</td>\n",
       "      <td>77</td>\n",
       "      <td>95</td>\n",
       "      <td>515</td>\n",
       "      <td>338</td>\n",
       "      <td>65.63</td>\n",
       "      <td>72</td>\n",
       "      <td>13.98</td>\n",
       "      <td>105</td>\n",
       "      <td>20.39</td>\n",
       "      <td>29</td>\n",
       "      <td>4</td>\n",
       "    </tr>\n",
       "    <tr>\n",
       "      <th>4</th>\n",
       "      <td>2025-05-05</td>\n",
       "      <td>segunda-feira</td>\n",
       "      <td>85</td>\n",
       "      <td>89</td>\n",
       "      <td>428</td>\n",
       "      <td>258</td>\n",
       "      <td>60.28</td>\n",
       "      <td>72</td>\n",
       "      <td>16.82</td>\n",
       "      <td>98</td>\n",
       "      <td>22.90</td>\n",
       "      <td>15</td>\n",
       "      <td>2</td>\n",
       "    </tr>\n",
       "  </tbody>\n",
       "</table>\n",
       "</div>"
      ],
      "text/plain": [
       "         Data  Dia da semana  Pontuação  Regularidade  Duração (min)  \\\n",
       "0  2025-05-01   quinta-feira         72            90            478   \n",
       "1  2025-05-02    sexta-feira         93            90            464   \n",
       "2  2025-05-03         sábado         80            90            539   \n",
       "3  2025-05-04        domingo         77            95            515   \n",
       "4  2025-05-05  segunda-feira         85            89            428   \n",
       "\n",
       "   Sono leve (min)  %Sono leve  Sono profundo (min)  %Sono profundo  \\\n",
       "0              337       70.50                   39            8.16   \n",
       "1              314       67.67                   80           17.24   \n",
       "2              360       66.79                   83           15.40   \n",
       "3              338       65.63                   72           13.98   \n",
       "4              258       60.28                   72           16.82   \n",
       "\n",
       "   REM (min)   %REM  Tempo acordado  Vezes acordado  \n",
       "0        102  21.34               6               3  \n",
       "1         70  15.09               6               1  \n",
       "2         96  17.81              12               4  \n",
       "3        105  20.39              29               4  \n",
       "4         98  22.90              15               2  "
      ]
     },
     "execution_count": 3,
     "metadata": {},
     "output_type": "execute_result"
    }
   ],
   "source": [
    "data.head()"
   ]
  },
  {
   "cell_type": "code",
   "execution_count": 4,
   "id": "58f817a6",
   "metadata": {},
   "outputs": [],
   "source": [
    "y = data[\"Pontuação\"]\n",
    "X = data.iloc[:, 3:]"
   ]
  },
  {
   "cell_type": "code",
   "execution_count": 5,
   "id": "043d5178",
   "metadata": {},
   "outputs": [
    {
     "data": {
      "text/html": [
       "<div>\n",
       "<style scoped>\n",
       "    .dataframe tbody tr th:only-of-type {\n",
       "        vertical-align: middle;\n",
       "    }\n",
       "\n",
       "    .dataframe tbody tr th {\n",
       "        vertical-align: top;\n",
       "    }\n",
       "\n",
       "    .dataframe thead th {\n",
       "        text-align: right;\n",
       "    }\n",
       "</style>\n",
       "<table border=\"1\" class=\"dataframe\">\n",
       "  <thead>\n",
       "    <tr style=\"text-align: right;\">\n",
       "      <th></th>\n",
       "      <th>Regularidade</th>\n",
       "      <th>Duração (min)</th>\n",
       "      <th>Sono leve (min)</th>\n",
       "      <th>%Sono leve</th>\n",
       "      <th>Sono profundo (min)</th>\n",
       "      <th>%Sono profundo</th>\n",
       "      <th>REM (min)</th>\n",
       "      <th>%REM</th>\n",
       "      <th>Tempo acordado</th>\n",
       "      <th>Vezes acordado</th>\n",
       "    </tr>\n",
       "  </thead>\n",
       "  <tbody>\n",
       "    <tr>\n",
       "      <th>0</th>\n",
       "      <td>90</td>\n",
       "      <td>478</td>\n",
       "      <td>337</td>\n",
       "      <td>70.50</td>\n",
       "      <td>39</td>\n",
       "      <td>8.16</td>\n",
       "      <td>102</td>\n",
       "      <td>21.34</td>\n",
       "      <td>6</td>\n",
       "      <td>3</td>\n",
       "    </tr>\n",
       "    <tr>\n",
       "      <th>1</th>\n",
       "      <td>90</td>\n",
       "      <td>464</td>\n",
       "      <td>314</td>\n",
       "      <td>67.67</td>\n",
       "      <td>80</td>\n",
       "      <td>17.24</td>\n",
       "      <td>70</td>\n",
       "      <td>15.09</td>\n",
       "      <td>6</td>\n",
       "      <td>1</td>\n",
       "    </tr>\n",
       "    <tr>\n",
       "      <th>2</th>\n",
       "      <td>90</td>\n",
       "      <td>539</td>\n",
       "      <td>360</td>\n",
       "      <td>66.79</td>\n",
       "      <td>83</td>\n",
       "      <td>15.40</td>\n",
       "      <td>96</td>\n",
       "      <td>17.81</td>\n",
       "      <td>12</td>\n",
       "      <td>4</td>\n",
       "    </tr>\n",
       "    <tr>\n",
       "      <th>3</th>\n",
       "      <td>95</td>\n",
       "      <td>515</td>\n",
       "      <td>338</td>\n",
       "      <td>65.63</td>\n",
       "      <td>72</td>\n",
       "      <td>13.98</td>\n",
       "      <td>105</td>\n",
       "      <td>20.39</td>\n",
       "      <td>29</td>\n",
       "      <td>4</td>\n",
       "    </tr>\n",
       "    <tr>\n",
       "      <th>4</th>\n",
       "      <td>89</td>\n",
       "      <td>428</td>\n",
       "      <td>258</td>\n",
       "      <td>60.28</td>\n",
       "      <td>72</td>\n",
       "      <td>16.82</td>\n",
       "      <td>98</td>\n",
       "      <td>22.90</td>\n",
       "      <td>15</td>\n",
       "      <td>2</td>\n",
       "    </tr>\n",
       "    <tr>\n",
       "      <th>...</th>\n",
       "      <td>...</td>\n",
       "      <td>...</td>\n",
       "      <td>...</td>\n",
       "      <td>...</td>\n",
       "      <td>...</td>\n",
       "      <td>...</td>\n",
       "      <td>...</td>\n",
       "      <td>...</td>\n",
       "      <td>...</td>\n",
       "      <td>...</td>\n",
       "    </tr>\n",
       "    <tr>\n",
       "      <th>68</th>\n",
       "      <td>71</td>\n",
       "      <td>519</td>\n",
       "      <td>338</td>\n",
       "      <td>65.13</td>\n",
       "      <td>63</td>\n",
       "      <td>12.14</td>\n",
       "      <td>118</td>\n",
       "      <td>22.74</td>\n",
       "      <td>8</td>\n",
       "      <td>3</td>\n",
       "    </tr>\n",
       "    <tr>\n",
       "      <th>69</th>\n",
       "      <td>75</td>\n",
       "      <td>505</td>\n",
       "      <td>358</td>\n",
       "      <td>70.89</td>\n",
       "      <td>73</td>\n",
       "      <td>14.46</td>\n",
       "      <td>74</td>\n",
       "      <td>14.65</td>\n",
       "      <td>5</td>\n",
       "      <td>3</td>\n",
       "    </tr>\n",
       "    <tr>\n",
       "      <th>70</th>\n",
       "      <td>74</td>\n",
       "      <td>472</td>\n",
       "      <td>324</td>\n",
       "      <td>68.64</td>\n",
       "      <td>58</td>\n",
       "      <td>12.29</td>\n",
       "      <td>90</td>\n",
       "      <td>19.07</td>\n",
       "      <td>4</td>\n",
       "      <td>2</td>\n",
       "    </tr>\n",
       "    <tr>\n",
       "      <th>71</th>\n",
       "      <td>77</td>\n",
       "      <td>483</td>\n",
       "      <td>309</td>\n",
       "      <td>63.98</td>\n",
       "      <td>76</td>\n",
       "      <td>15.73</td>\n",
       "      <td>98</td>\n",
       "      <td>20.29</td>\n",
       "      <td>9</td>\n",
       "      <td>2</td>\n",
       "    </tr>\n",
       "    <tr>\n",
       "      <th>72</th>\n",
       "      <td>81</td>\n",
       "      <td>489</td>\n",
       "      <td>324</td>\n",
       "      <td>66.26</td>\n",
       "      <td>85</td>\n",
       "      <td>17.38</td>\n",
       "      <td>80</td>\n",
       "      <td>16.36</td>\n",
       "      <td>11</td>\n",
       "      <td>3</td>\n",
       "    </tr>\n",
       "  </tbody>\n",
       "</table>\n",
       "<p>73 rows × 10 columns</p>\n",
       "</div>"
      ],
      "text/plain": [
       "    Regularidade  Duração (min)  Sono leve (min)  %Sono leve  \\\n",
       "0             90            478              337       70.50   \n",
       "1             90            464              314       67.67   \n",
       "2             90            539              360       66.79   \n",
       "3             95            515              338       65.63   \n",
       "4             89            428              258       60.28   \n",
       "..           ...            ...              ...         ...   \n",
       "68            71            519              338       65.13   \n",
       "69            75            505              358       70.89   \n",
       "70            74            472              324       68.64   \n",
       "71            77            483              309       63.98   \n",
       "72            81            489              324       66.26   \n",
       "\n",
       "    Sono profundo (min)  %Sono profundo  REM (min)   %REM  Tempo acordado  \\\n",
       "0                    39            8.16        102  21.34               6   \n",
       "1                    80           17.24         70  15.09               6   \n",
       "2                    83           15.40         96  17.81              12   \n",
       "3                    72           13.98        105  20.39              29   \n",
       "4                    72           16.82         98  22.90              15   \n",
       "..                  ...             ...        ...    ...             ...   \n",
       "68                   63           12.14        118  22.74               8   \n",
       "69                   73           14.46         74  14.65               5   \n",
       "70                   58           12.29         90  19.07               4   \n",
       "71                   76           15.73         98  20.29               9   \n",
       "72                   85           17.38         80  16.36              11   \n",
       "\n",
       "    Vezes acordado  \n",
       "0                3  \n",
       "1                1  \n",
       "2                4  \n",
       "3                4  \n",
       "4                2  \n",
       "..             ...  \n",
       "68               3  \n",
       "69               3  \n",
       "70               2  \n",
       "71               2  \n",
       "72               3  \n",
       "\n",
       "[73 rows x 10 columns]"
      ]
     },
     "execution_count": 5,
     "metadata": {},
     "output_type": "execute_result"
    }
   ],
   "source": [
    "X"
   ]
  },
  {
   "cell_type": "code",
   "execution_count": 6,
   "id": "05ab988d",
   "metadata": {},
   "outputs": [],
   "source": [
    "from sklearn.model_selection import train_test_split\n",
    "X_train, X_test, y_train, y_test = train_test_split(X, y, test_size=0.2, random_state=0)"
   ]
  },
  {
   "cell_type": "code",
   "execution_count": 7,
   "id": "8747bc49",
   "metadata": {},
   "outputs": [
    {
     "data": {
      "text/plain": [
       "((58, 10), (15, 10), (58,), (15,))"
      ]
     },
     "execution_count": 7,
     "metadata": {},
     "output_type": "execute_result"
    }
   ],
   "source": [
    "X_train.shape, X_test.shape, y_train.shape, y_test.shape"
   ]
  },
  {
   "cell_type": "code",
   "execution_count": 8,
   "id": "9a2c43b1",
   "metadata": {},
   "outputs": [],
   "source": [
    "from sklearn.linear_model import LinearRegression"
   ]
  },
  {
   "cell_type": "code",
   "execution_count": 9,
   "id": "92b22bcc",
   "metadata": {},
   "outputs": [],
   "source": [
    "model = LinearRegression()\n",
    "model.fit(X_train, y_train)\n",
    "y_pred = model.predict(X_test)"
   ]
  },
  {
   "cell_type": "code",
   "execution_count": 10,
   "id": "1c004a8e",
   "metadata": {},
   "outputs": [
    {
     "data": {
      "text/plain": [
       "np.float64(-14989.21092476817)"
      ]
     },
     "execution_count": 10,
     "metadata": {},
     "output_type": "execute_result"
    }
   ],
   "source": [
    "model.intercept_"
   ]
  },
  {
   "cell_type": "code",
   "execution_count": 11,
   "id": "a7fb1bbb",
   "metadata": {},
   "outputs": [
    {
     "data": {
      "text/plain": [
       "array([ 8.91541706e-02, -1.89524419e-02,  1.58864300e-01,  1.49921055e+02,\n",
       "        1.01795103e-01,  1.50984789e+02, -2.79611844e-01,  1.52093702e+02,\n",
       "       -7.93119932e-02, -3.54129863e+00])"
      ]
     },
     "execution_count": 11,
     "metadata": {},
     "output_type": "execute_result"
    }
   ],
   "source": [
    "model.coef_"
   ]
  },
  {
   "cell_type": "code",
   "execution_count": 20,
   "id": "2fe496ac",
   "metadata": {},
   "outputs": [
    {
     "data": {
      "text/plain": [
       "array([74.8152083 , 76.03550319, 85.54570227, 78.40591166, 81.58596474,\n",
       "       74.25524901, 79.8633481 , 84.45695689, 67.20937164, 77.92988718,\n",
       "       84.32225302, 79.33214155, 76.59200553, 84.49543515, 85.9264187 ])"
      ]
     },
     "execution_count": 20,
     "metadata": {},
     "output_type": "execute_result"
    }
   ],
   "source": [
    "y_pred"
   ]
  },
  {
   "cell_type": "code",
   "execution_count": 14,
   "id": "2e7c2680",
   "metadata": {},
   "outputs": [
    {
     "data": {
      "image/png": "[encoded data removed]",
      "text/plain": [
       "<Figure size 1000x600 with 1 Axes>"
      ]
     },
     "metadata": {},
     "output_type": "display_data"
    }
   ],
   "source": [
    "plt.figure(figsize=(10, 6))\n",
    "plt.scatter(y_test, y_pred, color=\"blue\")\n",
    "plt.plot([y_test.min(), y_test.max()], [y_test.min(), y_test.max()], lw=1) \n",
    "plt.grid()\n",
    "plt.xlabel('Real')\n",
    "plt.ylabel('Predicted')\n",
    "plt.title('Real vs. Predicted (Profit)')\n",
    "plt.show()\n"
   ]
  },
  {
   "cell_type": "code",
   "execution_count": 16,
   "id": "7ad3c6b0",
   "metadata": {},
   "outputs": [],
   "source": [
    "from sklearn.metrics import mean_absolute_error, mean_absolute_percentage_error, mean_squared_error"
   ]
  },
  {
   "cell_type": "code",
   "execution_count": 17,
   "id": "7c2ab4ba",
   "metadata": {},
   "outputs": [
    {
     "data": {
      "text/plain": [
       "3.6324182724055087"
      ]
     },
     "execution_count": 17,
     "metadata": {},
     "output_type": "execute_result"
    }
   ],
   "source": [
    "mean_absolute_error(y_test, y_pred)"
   ]
  },
  {
   "cell_type": "code",
   "execution_count": 18,
   "id": "058be9b2",
   "metadata": {},
   "outputs": [
    {
     "data": {
      "text/plain": [
       "0.04544612268150565"
      ]
     },
     "execution_count": 18,
     "metadata": {},
     "output_type": "execute_result"
    }
   ],
   "source": [
    "mean_absolute_percentage_error(y_test, y_pred)"
   ]
  },
  {
   "cell_type": "code",
   "execution_count": 19,
   "id": "07ca444f",
   "metadata": {},
   "outputs": [
    {
     "data": {
      "text/plain": [
       "21.456927587237114"
      ]
     },
     "execution_count": 19,
     "metadata": {},
     "output_type": "execute_result"
    }
   ],
   "source": [
    "mean_squared_error(y_test, y_pred)"
   ]
  }
 ],
 "metadata": {
  "kernelspec": {
   "display_name": "venv",
   "language": "python",
   "name": "python3"
  },
  "language_info": {
   "codemirror_mode": {
    "name": "ipython",
    "version": 3
   },
   "file_extension": ".py",
   "mimetype": "text/x-python",
   "name": "python",
   "nbconvert_exporter": "python",
   "pygments_lexer": "ipython3",
   "version": "3.13.7"
  }
 },
 "nbformat": 4,
 "nbformat_minor": 5
}

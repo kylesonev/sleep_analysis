{
 "cells": [
  {
   "cell_type": "code",
   "execution_count": null,
   "id": "52ddd011",
   "metadata": {},
   "outputs": [],
   "source": [
    "import sys\n",
    "import os\n",
    "import pandas as pd\n",
    "import matplotlib.pyplot as plt\n",
    "import seaborn as sns\n",
    "import numpy as np\n",
    "sys.path.append(os.path.abspath(\"..\"))  \n",
    "from src.graficos import criar_boxplot, criar_scatterplot_outliers, criar_barplot_stacked, criar_pieplot, criar_side_by_side, criar_histograma\n",
    "from src.prints import imprimir_medias, imprimir_diferenca_medias\n",
    "sns.set_theme()"
   ]
  },
  {
   "cell_type": "code",
   "execution_count": null,
   "id": "78f549fe",
   "metadata": {},
   "outputs": [],
   "source": [
    "data = pd.read_csv(\"../data/cleaned.csv\")"
   ]
  },
  {
   "cell_type": "code",
   "execution_count": null,
   "id": "97c0b589",
   "metadata": {},
   "outputs": [],
   "source": [
    "data"
   ]
  },
  {
   "cell_type": "markdown",
   "id": "0bc44cc4",
   "metadata": {},
   "source": [
    "Criação de lista \"Métricas\""
   ]
  },
  {
   "cell_type": "code",
   "execution_count": null,
   "id": "8337e45e",
   "metadata": {},
   "outputs": [],
   "source": [
    "metricas = [\"pontuacao\",\"regularidade\", \n",
    "            \"duracao\", \"sono_leve\",\"sono_leve_perc\", \n",
    "            \"sono_profundo\", \"sono_profundo_perc\", \"REM\", \"REM_perc\", \n",
    "            \"tempo_acordado\", \"vezes_acordado\"]"
   ]
  },
  {
   "cell_type": "code",
   "execution_count": null,
   "id": "1e839e76",
   "metadata": {},
   "outputs": [],
   "source": [
    "criar_boxplot(dataframe=data, metricas=metricas)"
   ]
  },
  {
   "cell_type": "code",
   "execution_count": null,
   "id": "77da0937",
   "metadata": {},
   "outputs": [],
   "source": [
    "outliers = [\"pontuacao\", \"sono_leve_perc\", \"REM\", \"REM_perc\", \"tempo_acordado\"]"
   ]
  },
  {
   "cell_type": "markdown",
   "id": "ad325563",
   "metadata": {},
   "source": [
    "Visualização de outliers \n",
    "\n",
    "Utilização de Scater Plot para visualizar dados\n",
    "\n",
    "Utilização de Line Plot para visualizar Linha Inferior, Linha Superior e Média"
   ]
  },
  {
   "cell_type": "code",
   "execution_count": null,
   "id": "627899e6",
   "metadata": {},
   "outputs": [],
   "source": [
    "criar_scatterplot_outliers(outliers=outliers, dataframe=data, nrows=2, ncols=3)"
   ]
  },
  {
   "cell_type": "markdown",
   "id": "3bd546f0",
   "metadata": {},
   "source": [
    "Visualização de Histogramas"
   ]
  },
  {
   "cell_type": "code",
   "execution_count": null,
   "id": "0241fffe",
   "metadata": {},
   "outputs": [],
   "source": [
    "criar_histograma(dataframe=data, metricas=metricas, nrows=3, ncols=4)"
   ]
  },
  {
   "cell_type": "code",
   "execution_count": null,
   "id": "8bd22367",
   "metadata": {},
   "outputs": [],
   "source": [
    "media_pontuacao = data[\"pontuacao\"].mean()\n",
    "media_pontuacao"
   ]
  },
  {
   "cell_type": "markdown",
   "id": "354e1617",
   "metadata": {},
   "source": [
    "Visualização geral de Pontuação e linha de média"
   ]
  },
  {
   "cell_type": "code",
   "execution_count": null,
   "id": "11ddbcba",
   "metadata": {},
   "outputs": [],
   "source": [
    "plt.figure(figsize=(20, 10))\n",
    "sns.lineplot(data=data, x=\"data\", y=\"pontuacao\")\n",
    "plt.axhline(media_pontuacao, color=\"red\", linestyle=\"--\")\n",
    "plt.ylabel(\"Pontuação\")\n",
    "plt.xticks(rotation=90)\n",
    "plt.xlabel(\"Data\")\n",
    "plt.show()"
   ]
  },
  {
   "cell_type": "markdown",
   "id": "85b6fb58",
   "metadata": {},
   "source": [
    "Gráfico de Correlação"
   ]
  },
  {
   "cell_type": "code",
   "execution_count": null,
   "id": "83750829",
   "metadata": {},
   "outputs": [],
   "source": [
    "plt.figure(figsize=(16, 8))\n",
    "sns.heatmap(data[metricas].corr(),  annot=True, cmap=\"coolwarm\", center=0)\n",
    "plt.title(\"Correlação das Métricas\")\n",
    "plt.show()"
   ]
  },
  {
   "cell_type": "markdown",
   "id": "b2f4df37",
   "metadata": {},
   "source": [
    "Utilização de Bar Plot (Stacked) para visualizar como está composta a duração do sono "
   ]
  },
  {
   "cell_type": "code",
   "execution_count": null,
   "id": "2868142f",
   "metadata": {},
   "outputs": [],
   "source": [
    "composicao_sono = [\"sono_leve\", \"sono_profundo\", \"REM\"]"
   ]
  },
  {
   "cell_type": "code",
   "execution_count": null,
   "id": "b2a8bd6a",
   "metadata": {},
   "outputs": [],
   "source": [
    "criar_barplot_stacked(dataframe=data, composicao_sono=composicao_sono)"
   ]
  },
  {
   "cell_type": "code",
   "execution_count": null,
   "id": "d134f419",
   "metadata": {},
   "outputs": [],
   "source": [
    "total_sono = data[[\"sono_leve\", \"sono_profundo\", \"REM\"]].sum()\n",
    "labels = total_sono.index.tolist()\n",
    "values = total_sono.values.tolist()"
   ]
  },
  {
   "cell_type": "code",
   "execution_count": null,
   "id": "58cd34a8",
   "metadata": {},
   "outputs": [],
   "source": [
    "criar_pieplot(dataframe=data, values=values, labels=labels)"
   ]
  },
  {
   "cell_type": "code",
   "execution_count": null,
   "id": "ac540d48",
   "metadata": {},
   "outputs": [],
   "source": [
    "ordem = [\"segunda-feira\", \"terça-feira\", \"quarta-feira\", \"quinta-feira\", \"sexta-feira\",\n",
    "         \"sábado\", \"domingo\"]"
   ]
  },
  {
   "cell_type": "code",
   "execution_count": null,
   "id": "6fd19569",
   "metadata": {},
   "outputs": [],
   "source": [
    "data_semana = data.copy()"
   ]
  },
  {
   "cell_type": "code",
   "execution_count": null,
   "id": "f31c721f",
   "metadata": {},
   "outputs": [],
   "source": [
    "data_semana[\"dia_semana\"] = pd.Categorical(data_semana[\"dia_semana\"], categories=ordem, ordered=True)"
   ]
  },
  {
   "cell_type": "code",
   "execution_count": null,
   "id": "352cb6f5",
   "metadata": {},
   "outputs": [],
   "source": [
    "medias = data_semana.groupby(\"dia_semana\")[\"pontuacao\"].mean().round(2)"
   ]
  },
  {
   "cell_type": "code",
   "execution_count": null,
   "id": "62e3d1f7",
   "metadata": {},
   "outputs": [],
   "source": [
    "medias_df = medias.reset_index()\n",
    "medias_df.columns = [\"dia_semana\", \"pontuacao\"]"
   ]
  },
  {
   "cell_type": "code",
   "execution_count": null,
   "id": "6d26f9a2",
   "metadata": {},
   "outputs": [],
   "source": [
    "medias_df = medias_df.sort_values(\"pontuacao\", ascending=True)"
   ]
  },
  {
   "cell_type": "code",
   "execution_count": null,
   "id": "06b8f0c3",
   "metadata": {},
   "outputs": [],
   "source": [
    "medias_df"
   ]
  },
  {
   "cell_type": "code",
   "execution_count": null,
   "id": "dbe7a9c1",
   "metadata": {},
   "outputs": [],
   "source": [
    "plt.figure(figsize=(16, 8))\n",
    "sns.barplot(data=medias_df, x=\"dia_semana\", y=\"pontuacao\", order=medias_df[\"dia_semana\"])\n",
    "plt.title(\"Média de Pontuação por dia da Semana\", size=16)\n",
    "plt.xlabel(\"Dia da Semana\", size=14)\n",
    "plt.ylabel(\"Pontuação\", size=14)\n",
    "plt.tight_layout()\n",
    "plt.show()"
   ]
  },
  {
   "cell_type": "code",
   "execution_count": null,
   "id": "0712c270",
   "metadata": {},
   "outputs": [],
   "source": [
    "data_ordenado = data.sort_values(by=\"pontuacao\", ascending=False)\n",
    "maiores = data_ordenado.head(15)\n",
    "menores = data_ordenado.tail(15)"
   ]
  },
  {
   "cell_type": "code",
   "execution_count": null,
   "id": "6cf2c156",
   "metadata": {},
   "outputs": [],
   "source": [
    "maiores_dias_semana = maiores[\"dia_semana\"].value_counts()\n",
    "maiores_dias_semana"
   ]
  },
  {
   "cell_type": "code",
   "execution_count": null,
   "id": "d5f3ae47",
   "metadata": {},
   "outputs": [],
   "source": [
    "menores_dias_semana = menores[\"dia_semana\"].value_counts()\n",
    "menores_dias_semana"
   ]
  },
  {
   "cell_type": "code",
   "execution_count": null,
   "id": "c5dd3a49",
   "metadata": {},
   "outputs": [],
   "source": [
    "maiores"
   ]
  },
  {
   "cell_type": "code",
   "execution_count": null,
   "id": "86f8b8f0",
   "metadata": {},
   "outputs": [],
   "source": [
    "menores"
   ]
  },
  {
   "cell_type": "code",
   "execution_count": null,
   "id": "bcc90c41",
   "metadata": {},
   "outputs": [],
   "source": [
    "media_maiores = maiores[[\"pontuacao\", \"duracao\", \"sono_leve_perc\", \"sono_profundo_perc\", \"REM_perc\", \"tempo_acordado\", \"vezes_acordado\"]].mean().round(2)\n",
    "media_menores = menores[[\"pontuacao\", \"duracao\", \"sono_leve_perc\", \"sono_profundo_perc\", \"REM_perc\", \"tempo_acordado\", \"vezes_acordado\"]].mean().round(2)"
   ]
  },
  {
   "cell_type": "code",
   "execution_count": null,
   "id": "84d2ec3e",
   "metadata": {},
   "outputs": [],
   "source": [
    "imprimir_medias(media_maiores)"
   ]
  },
  {
   "cell_type": "code",
   "execution_count": null,
   "id": "4e99be22",
   "metadata": {},
   "outputs": [],
   "source": [
    "imprimir_medias(media_menores)\n"
   ]
  },
  {
   "cell_type": "code",
   "execution_count": null,
   "id": "8a4540ec",
   "metadata": {},
   "outputs": [],
   "source": [
    "imprimir_diferenca_medias(media_maiores, media_menores)"
   ]
  },
  {
   "cell_type": "code",
   "execution_count": null,
   "id": "324264a4",
   "metadata": {},
   "outputs": [],
   "source": [
    "categorias = [\"Pontuação\", \"Duração\", \"Sono Leve (%)\", \"Sono Profundo (%)\", \"REM (%)\", \"Tempo Acordado\", \"Vezes Acordado\"]"
   ]
  },
  {
   "cell_type": "code",
   "execution_count": null,
   "id": "e3495713",
   "metadata": {},
   "outputs": [],
   "source": [
    "maiores_vals = media_maiores.reset_index(drop=True)\n",
    "menores_vals = media_menores.reset_index(drop=True)"
   ]
  },
  {
   "cell_type": "code",
   "execution_count": null,
   "id": "fbc2ffe7",
   "metadata": {},
   "outputs": [],
   "source": [
    "criar_side_by_side(alto=maiores_vals, baixo=menores_vals, categorias=categorias, title=\"Média das 15 maiores e menores pontuações\")"
   ]
  },
  {
   "cell_type": "code",
   "execution_count": null,
   "id": "147df973",
   "metadata": {},
   "outputs": [],
   "source": [
    "maior_pontuacao = maiores.iloc[0].drop([\"data\", \"dia_semana\", \"regularidade\", \"sono_leve\", \"sono_profundo\", \"REM\"])\n",
    "menor_pontuacao = menores.iloc[-1].drop([\"data\", \"dia_semana\", \"regularidade\",\"sono_leve\", \"sono_profundo\", \"REM\"])"
   ]
  },
  {
   "cell_type": "code",
   "execution_count": null,
   "id": "4f398010",
   "metadata": {},
   "outputs": [],
   "source": [
    "maior_pontuacao"
   ]
  },
  {
   "cell_type": "code",
   "execution_count": null,
   "id": "9a1ad31a",
   "metadata": {},
   "outputs": [],
   "source": [
    "criar_side_by_side(alto=maior_pontuacao, baixo=menor_pontuacao, categorias=categorias, title=\"Comparação da Maior e Menor Pontuação\")"
   ]
  }
 ],
 "metadata": {
  "kernelspec": {
   "display_name": "venv",
   "language": "python",
   "name": "python3"
  },
  "language_info": {
   "codemirror_mode": {
    "name": "ipython",
    "version": 3
   },
   "file_extension": ".py",
   "mimetype": "text/x-python",
   "name": "python",
   "nbconvert_exporter": "python",
   "pygments_lexer": "ipython3",
   "version": "3.13.7"
  }
 },
 "nbformat": 4,
 "nbformat_minor": 5
}

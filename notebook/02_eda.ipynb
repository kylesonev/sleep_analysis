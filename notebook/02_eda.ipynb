{
 "cells": [
  {
   "cell_type": "code",
   "execution_count": 1,
   "id": "52ddd011",
   "metadata": {},
   "outputs": [],
   "source": [
    "import sys\n",
    "import os\n",
    "import pandas as pd\n",
    "import matplotlib.pyplot as plt\n",
    "import seaborn as sns\n",
    "sys.path.append(os.path.abspath(\"..\"))  \n",
    "from src.graficos import criar_boxplot\n",
    "sns.set_theme()"
   ]
  },
  {
   "cell_type": "code",
   "execution_count": 2,
   "id": "78f549fe",
   "metadata": {},
   "outputs": [],
   "source": [
    "data = pd.read_csv(\"../data/cleaned.csv\")"
   ]
  },
  {
   "cell_type": "code",
   "execution_count": 3,
   "id": "97c0b589",
   "metadata": {},
   "outputs": [
    {
     "data": {
      "text/html": [
       "<div>\n",
       "<style scoped>\n",
       "    .dataframe tbody tr th:only-of-type {\n",
       "        vertical-align: middle;\n",
       "    }\n",
       "\n",
       "    .dataframe tbody tr th {\n",
       "        vertical-align: top;\n",
       "    }\n",
       "\n",
       "    .dataframe thead th {\n",
       "        text-align: right;\n",
       "    }\n",
       "</style>\n",
       "<table border=\"1\" class=\"dataframe\">\n",
       "  <thead>\n",
       "    <tr style=\"text-align: right;\">\n",
       "      <th></th>\n",
       "      <th>data</th>\n",
       "      <th>dia_semana</th>\n",
       "      <th>pontuacao</th>\n",
       "      <th>regularidade</th>\n",
       "      <th>duracao</th>\n",
       "      <th>sono_leve</th>\n",
       "      <th>sono_leve_perc</th>\n",
       "      <th>sono_profundo</th>\n",
       "      <th>sono_profundo_perc</th>\n",
       "      <th>REM</th>\n",
       "      <th>REM_perc</th>\n",
       "      <th>tempo_acordado</th>\n",
       "      <th>vezes_acordado</th>\n",
       "    </tr>\n",
       "  </thead>\n",
       "  <tbody>\n",
       "    <tr>\n",
       "      <th>0</th>\n",
       "      <td>2025-05-01</td>\n",
       "      <td>quinta-feira</td>\n",
       "      <td>72</td>\n",
       "      <td>90</td>\n",
       "      <td>478</td>\n",
       "      <td>337</td>\n",
       "      <td>70.50</td>\n",
       "      <td>39</td>\n",
       "      <td>8.16</td>\n",
       "      <td>102</td>\n",
       "      <td>21.34</td>\n",
       "      <td>6</td>\n",
       "      <td>3</td>\n",
       "    </tr>\n",
       "    <tr>\n",
       "      <th>1</th>\n",
       "      <td>2025-05-02</td>\n",
       "      <td>sexta-feira</td>\n",
       "      <td>93</td>\n",
       "      <td>90</td>\n",
       "      <td>464</td>\n",
       "      <td>314</td>\n",
       "      <td>67.67</td>\n",
       "      <td>80</td>\n",
       "      <td>17.24</td>\n",
       "      <td>70</td>\n",
       "      <td>15.09</td>\n",
       "      <td>6</td>\n",
       "      <td>1</td>\n",
       "    </tr>\n",
       "    <tr>\n",
       "      <th>2</th>\n",
       "      <td>2025-05-03</td>\n",
       "      <td>sábado</td>\n",
       "      <td>80</td>\n",
       "      <td>90</td>\n",
       "      <td>539</td>\n",
       "      <td>360</td>\n",
       "      <td>66.79</td>\n",
       "      <td>83</td>\n",
       "      <td>15.40</td>\n",
       "      <td>96</td>\n",
       "      <td>17.81</td>\n",
       "      <td>12</td>\n",
       "      <td>4</td>\n",
       "    </tr>\n",
       "    <tr>\n",
       "      <th>3</th>\n",
       "      <td>2025-05-04</td>\n",
       "      <td>domingo</td>\n",
       "      <td>77</td>\n",
       "      <td>95</td>\n",
       "      <td>515</td>\n",
       "      <td>338</td>\n",
       "      <td>65.63</td>\n",
       "      <td>72</td>\n",
       "      <td>13.98</td>\n",
       "      <td>105</td>\n",
       "      <td>20.39</td>\n",
       "      <td>29</td>\n",
       "      <td>4</td>\n",
       "    </tr>\n",
       "    <tr>\n",
       "      <th>4</th>\n",
       "      <td>2025-05-05</td>\n",
       "      <td>segunda-feira</td>\n",
       "      <td>85</td>\n",
       "      <td>89</td>\n",
       "      <td>428</td>\n",
       "      <td>258</td>\n",
       "      <td>60.28</td>\n",
       "      <td>72</td>\n",
       "      <td>16.82</td>\n",
       "      <td>98</td>\n",
       "      <td>22.90</td>\n",
       "      <td>15</td>\n",
       "      <td>2</td>\n",
       "    </tr>\n",
       "    <tr>\n",
       "      <th>...</th>\n",
       "      <td>...</td>\n",
       "      <td>...</td>\n",
       "      <td>...</td>\n",
       "      <td>...</td>\n",
       "      <td>...</td>\n",
       "      <td>...</td>\n",
       "      <td>...</td>\n",
       "      <td>...</td>\n",
       "      <td>...</td>\n",
       "      <td>...</td>\n",
       "      <td>...</td>\n",
       "      <td>...</td>\n",
       "      <td>...</td>\n",
       "    </tr>\n",
       "    <tr>\n",
       "      <th>68</th>\n",
       "      <td>2025-07-08</td>\n",
       "      <td>terça-feira</td>\n",
       "      <td>78</td>\n",
       "      <td>71</td>\n",
       "      <td>519</td>\n",
       "      <td>338</td>\n",
       "      <td>65.13</td>\n",
       "      <td>63</td>\n",
       "      <td>12.14</td>\n",
       "      <td>118</td>\n",
       "      <td>22.74</td>\n",
       "      <td>8</td>\n",
       "      <td>3</td>\n",
       "    </tr>\n",
       "    <tr>\n",
       "      <th>69</th>\n",
       "      <td>2025-07-09</td>\n",
       "      <td>quarta-feira</td>\n",
       "      <td>82</td>\n",
       "      <td>75</td>\n",
       "      <td>505</td>\n",
       "      <td>358</td>\n",
       "      <td>70.89</td>\n",
       "      <td>73</td>\n",
       "      <td>14.46</td>\n",
       "      <td>74</td>\n",
       "      <td>14.65</td>\n",
       "      <td>5</td>\n",
       "      <td>3</td>\n",
       "    </tr>\n",
       "    <tr>\n",
       "      <th>70</th>\n",
       "      <td>2025-07-10</td>\n",
       "      <td>quinta-feira</td>\n",
       "      <td>76</td>\n",
       "      <td>74</td>\n",
       "      <td>472</td>\n",
       "      <td>324</td>\n",
       "      <td>68.64</td>\n",
       "      <td>58</td>\n",
       "      <td>12.29</td>\n",
       "      <td>90</td>\n",
       "      <td>19.07</td>\n",
       "      <td>4</td>\n",
       "      <td>2</td>\n",
       "    </tr>\n",
       "    <tr>\n",
       "      <th>71</th>\n",
       "      <td>2025-07-11</td>\n",
       "      <td>sexta-feira</td>\n",
       "      <td>85</td>\n",
       "      <td>77</td>\n",
       "      <td>483</td>\n",
       "      <td>309</td>\n",
       "      <td>63.98</td>\n",
       "      <td>76</td>\n",
       "      <td>15.73</td>\n",
       "      <td>98</td>\n",
       "      <td>20.29</td>\n",
       "      <td>9</td>\n",
       "      <td>2</td>\n",
       "    </tr>\n",
       "    <tr>\n",
       "      <th>72</th>\n",
       "      <td>2025-07-12</td>\n",
       "      <td>sábado</td>\n",
       "      <td>84</td>\n",
       "      <td>81</td>\n",
       "      <td>489</td>\n",
       "      <td>324</td>\n",
       "      <td>66.26</td>\n",
       "      <td>85</td>\n",
       "      <td>17.38</td>\n",
       "      <td>80</td>\n",
       "      <td>16.36</td>\n",
       "      <td>11</td>\n",
       "      <td>3</td>\n",
       "    </tr>\n",
       "  </tbody>\n",
       "</table>\n",
       "<p>73 rows × 13 columns</p>\n",
       "</div>"
      ],
      "text/plain": [
       "          data     dia_semana  pontuacao  regularidade  duracao  sono_leve  \\\n",
       "0   2025-05-01   quinta-feira         72            90      478        337   \n",
       "1   2025-05-02    sexta-feira         93            90      464        314   \n",
       "2   2025-05-03         sábado         80            90      539        360   \n",
       "3   2025-05-04        domingo         77            95      515        338   \n",
       "4   2025-05-05  segunda-feira         85            89      428        258   \n",
       "..         ...            ...        ...           ...      ...        ...   \n",
       "68  2025-07-08    terça-feira         78            71      519        338   \n",
       "69  2025-07-09   quarta-feira         82            75      505        358   \n",
       "70  2025-07-10   quinta-feira         76            74      472        324   \n",
       "71  2025-07-11    sexta-feira         85            77      483        309   \n",
       "72  2025-07-12         sábado         84            81      489        324   \n",
       "\n",
       "    sono_leve_perc  sono_profundo  sono_profundo_perc  REM  REM_perc  \\\n",
       "0            70.50             39                8.16  102     21.34   \n",
       "1            67.67             80               17.24   70     15.09   \n",
       "2            66.79             83               15.40   96     17.81   \n",
       "3            65.63             72               13.98  105     20.39   \n",
       "4            60.28             72               16.82   98     22.90   \n",
       "..             ...            ...                 ...  ...       ...   \n",
       "68           65.13             63               12.14  118     22.74   \n",
       "69           70.89             73               14.46   74     14.65   \n",
       "70           68.64             58               12.29   90     19.07   \n",
       "71           63.98             76               15.73   98     20.29   \n",
       "72           66.26             85               17.38   80     16.36   \n",
       "\n",
       "    tempo_acordado  vezes_acordado  \n",
       "0                6               3  \n",
       "1                6               1  \n",
       "2               12               4  \n",
       "3               29               4  \n",
       "4               15               2  \n",
       "..             ...             ...  \n",
       "68               8               3  \n",
       "69               5               3  \n",
       "70               4               2  \n",
       "71               9               2  \n",
       "72              11               3  \n",
       "\n",
       "[73 rows x 13 columns]"
      ]
     },
     "execution_count": 3,
     "metadata": {},
     "output_type": "execute_result"
    }
   ],
   "source": [
    "data"
   ]
  },
  {
   "cell_type": "markdown",
   "id": "0bc44cc4",
   "metadata": {},
   "source": [
    "Criação de lista \"Métricas\""
   ]
  },
  {
   "cell_type": "code",
   "execution_count": 4,
   "id": "8337e45e",
   "metadata": {},
   "outputs": [],
   "source": [
    "metricas = [\"pontuacao\",\"regularidade\", \n",
    "            \"duracao\", \"sono_leve\",\"sono_leve_perc\", \n",
    "            \"sono_profundo\", \"sono_profundo_perc\", \"REM\", \"REM_perc\", \n",
    "            \"tempo_acordado\", \"vezes_acordado\"]"
   ]
  },
  {
   "cell_type": "code",
   "execution_count": 8,
   "id": "1e839e76",
   "metadata": {},
   "outputs": [
    {
     "data": {
      "image/png": "[encoded data removed]",
      "text/plain": [
       "<Figure size 1500x1000 with 11 Axes>"
      ]
     },
     "metadata": {},
     "output_type": "display_data"
    },
    {
     "data": {
      "text/plain": [
       "(<Figure size 1500x1000 with 11 Axes>,\n",
       " array([<Axes: title={'center': 'pontuacao'}>,\n",
       "        <Axes: title={'center': 'regularidade'}>,\n",
       "        <Axes: title={'center': 'duracao'}>,\n",
       "        <Axes: title={'center': 'sono_leve'}>,\n",
       "        <Axes: title={'center': 'sono_leve_perc'}>,\n",
       "        <Axes: title={'center': 'sono_profundo'}>,\n",
       "        <Axes: title={'center': 'sono_profundo_perc'}>,\n",
       "        <Axes: title={'center': 'REM'}>,\n",
       "        <Axes: title={'center': 'REM_perc'}>,\n",
       "        <Axes: title={'center': 'tempo_acordado'}>,\n",
       "        <Axes: title={'center': 'vezes_acordado'}>, <Axes: >], dtype=object))"
      ]
     },
     "execution_count": 8,
     "metadata": {},
     "output_type": "execute_result"
    }
   ],
   "source": [
    "criar_boxplot(dataframe=data, metricas=metricas, title=\"Box Plot\")"
   ]
  },
  {
   "cell_type": "code",
   "execution_count": 9,
   "id": "77da0937",
   "metadata": {},
   "outputs": [],
   "source": [
    "outliers = [\"pontuacao\", \"sono_leve_perc\", \"REM\", \"REM_perc\", \"tempo_acordado\"]"
   ]
  },
  {
   "cell_type": "markdown",
   "id": "ad325563",
   "metadata": {},
   "source": [
    "Visualização de outliers \n",
    "\n",
    "Utilização de Scater Plot para visualizar dados\n",
    "\n",
    "Utilização de Line Plot para visualizar Linha Inferior, Linha Superior e Média"
   ]
  },
  {
   "cell_type": "code",
   "execution_count": null,
   "id": "627899e6",
   "metadata": {},
   "outputs": [],
   "source": [
    "for outlier in outliers:\n",
    "    Q1 = data[outlier].quantile(0.25)\n",
    "    Q3 = data[outlier].quantile(0.75)\n",
    "    IQR = Q3 - Q1\n",
    "    limite_inferior = Q1 - 1.5 * IQR\n",
    "    limite_superior = Q3 + 1.5 * IQR\n",
    "\n",
    "    outliers_mask = (data[outlier] < limite_inferior) | (data[outlier] > limite_superior)\n",
    "    outliers_df = data[outliers_mask].copy()\n",
    "    non_outliers_df = data[~outliers_mask].copy()\n",
    "\n",
    "    print(f\"\\nAnálise de Outliers - {outlier}\")\n",
    "    print(f\"• Primeiro Quartil (Q1): {Q1:.2f}\")\n",
    "    print(f\"• Terceiro Quartil (Q3): {Q3:.2f}\")\n",
    "    print(f\"• IQR: {IQR:.2f}\")\n",
    "    print(f\"• Limite Inferior: {limite_inferior:.2f}\")\n",
    "    print(f\"• Limite Superior: {limite_superior:.2f}\")\n",
    "    print(f\"• Outliers Detected: {len(outliers_df)}\")\n",
    "\n",
    "    plt.figure(figsize=(12, 6))\n",
    "\n",
    "    media = data[outlier].mean()\n",
    "\n",
    "    sns.scatterplot(x=non_outliers_df.index, y=non_outliers_df[outlier], color=\"skyblue\", label=\"Normal\", s=80)\n",
    "    sns.scatterplot(x=outliers_df.index, y=outliers_df[outlier], color=\"red\", label=\"Outliers\", s=100) \n",
    "    plt.axhline(limite_superior, color=\"red\", linestyle=\"--\")\n",
    "    plt.axhline(limite_inferior, color=\"red\", linestyle=\"--\")\n",
    "    plt.axhline(media, color=\"green\", linestyle=\"--\")\n",
    "\n",
    "    plt.title(f\"Distribuição de {outlier.capitalize()} com Outliers em destaque\")\n",
    "    plt.xlabel(\"Index\")\n",
    "    plt.ylabel(outlier)\n",
    "    plt.legend()\n",
    "    plt.tight_layout()\n",
    "    plt.show()"
   ]
  },
  {
   "cell_type": "markdown",
   "id": "3bd546f0",
   "metadata": {},
   "source": [
    "Visualização de Histogramas"
   ]
  },
  {
   "cell_type": "code",
   "execution_count": null,
   "id": "0241fffe",
   "metadata": {},
   "outputs": [],
   "source": [
    "for metrica in metricas:\n",
    "  plt.figure(figsize=(16, 8))\n",
    "  sns.histplot(data=data, x=metrica, kde=True)"
   ]
  },
  {
   "cell_type": "markdown",
   "id": "7391e762",
   "metadata": {},
   "source": [
    "Visualização de Violin Plot"
   ]
  },
  {
   "cell_type": "code",
   "execution_count": null,
   "id": "0cced306",
   "metadata": {},
   "outputs": [],
   "source": [
    "figsize = (12, 1.2 * len(data['dia_semana'].unique()))\n",
    "plt.figure(figsize=figsize)\n",
    "sns.violinplot(data, x='pontuacao', y='dia_semana', inner='stick', palette='Dark2', hue='dia_semana', legend=False)\n",
    "sns.despine(top=True, right=True, bottom=True, left=True)\n",
    "plt.show()"
   ]
  },
  {
   "cell_type": "code",
   "execution_count": null,
   "id": "8bd22367",
   "metadata": {},
   "outputs": [],
   "source": [
    "media_pontuacao = data[\"pontuacao\"].mean()\n",
    "media_pontuacao"
   ]
  },
  {
   "cell_type": "markdown",
   "id": "354e1617",
   "metadata": {},
   "source": [
    "Visualização geral de Pontuação e linha de média"
   ]
  },
  {
   "cell_type": "code",
   "execution_count": null,
   "id": "11ddbcba",
   "metadata": {},
   "outputs": [],
   "source": [
    "plt.figure(figsize=(20, 10))\n",
    "sns.lineplot(data=data, x=\"data\", y=\"pontuacao\")\n",
    "plt.axhline(media_pontuacao, color=\"red\", linestyle=\"--\")\n",
    "plt.ylabel(\"Pontuação\")\n",
    "plt.xticks(rotation=90)\n",
    "plt.xlabel(\"Data\")\n",
    "plt.show()"
   ]
  },
  {
   "cell_type": "markdown",
   "id": "85b6fb58",
   "metadata": {},
   "source": [
    "Gráfico de Correlação"
   ]
  },
  {
   "cell_type": "code",
   "execution_count": null,
   "id": "83750829",
   "metadata": {},
   "outputs": [],
   "source": [
    "plt.figure(figsize=(16, 8))\n",
    "sns.heatmap(data[metricas].corr(),  annot=True, cmap=\"coolwarm\", center=0)\n",
    "plt.title(\"Correlação das Métricas\")\n",
    "plt.show()"
   ]
  },
  {
   "cell_type": "markdown",
   "id": "b2f4df37",
   "metadata": {},
   "source": [
    "Utilização de Bar Plot (Stacked) para visualizar como está composta a duração do sono "
   ]
  },
  {
   "cell_type": "code",
   "execution_count": null,
   "id": "2868142f",
   "metadata": {},
   "outputs": [],
   "source": [
    "composicao_sono = [\"sono_leve\", \"sono_profundo\", \"REM\"]"
   ]
  },
  {
   "cell_type": "code",
   "execution_count": null,
   "id": "b2a8bd6a",
   "metadata": {},
   "outputs": [],
   "source": [
    "\n",
    "volume = data.groupby(\"data\")[composicao_sono].sum()\n",
    "\n",
    "ax = volume.plot(\n",
    "    kind=\"bar\",\n",
    "    stacked=True,\n",
    "    figsize=(20, 10),\n",
    "    colormap=\"viridis\",\n",
    ")\n",
    "plt.title(\"Composição do Sono\")\n",
    "plt.xlabel(\"Dia\")\n",
    "plt.ylabel(\"Tempo (min)\")\n",
    "# plt.xticks(rotation=45, ha=\"right\")\n",
    "plt.legend(title=\"Etapas\")\n",
    "\n",
    "plt.tight_layout()\n",
    "plt.show()\n",
    "\n"
   ]
  },
  {
   "cell_type": "code",
   "execution_count": null,
   "id": "d134f419",
   "metadata": {},
   "outputs": [],
   "source": [
    "total_sono = data[[\"sono_leve\", \"sono_profundo\", \"REM\"]].sum()\n",
    "labels = total_sono.index.tolist()\n",
    "values = total_sono.values.tolist()"
   ]
  },
  {
   "cell_type": "code",
   "execution_count": null,
   "id": "58cd34a8",
   "metadata": {},
   "outputs": [],
   "source": [
    "plt.figure(figsize=(16,8))\n",
    "plt.pie(\n",
    "    values,\n",
    "    labels=labels,\n",
    "    autopct=\"%1.2f%%\",\n",
    "    startangle=90,\n",
    ")\n",
    "plt.title(\"Composição Total do Sono Registrado\")\n",
    "plt.axis(\"equal\")\n",
    "plt.tight_layout()\n",
    "plt.show()"
   ]
  },
  {
   "cell_type": "code",
   "execution_count": null,
   "id": "ac540d48",
   "metadata": {},
   "outputs": [],
   "source": [
    "ordem = [\"segunda-feira\", \"terça-feira\", \"quarta-feira\", \"quinta-feira\", \"sexta-feira\",\n",
    "         \"sábado\", \"domingo\"]"
   ]
  },
  {
   "cell_type": "code",
   "execution_count": null,
   "id": "6fd19569",
   "metadata": {},
   "outputs": [],
   "source": [
    "data_semana = data.copy()"
   ]
  },
  {
   "cell_type": "code",
   "execution_count": null,
   "id": "f31c721f",
   "metadata": {},
   "outputs": [],
   "source": [
    "data_semana[\"dia_semana\"] = pd.Categorical(data_semana[\"dia_semana\"], categories=ordem, ordered=True)"
   ]
  },
  {
   "cell_type": "code",
   "execution_count": null,
   "id": "352cb6f5",
   "metadata": {},
   "outputs": [],
   "source": [
    "medias = data_semana.groupby(\"dia_semana\")[\"pontuacao\"].mean().round(2)"
   ]
  },
  {
   "cell_type": "code",
   "execution_count": null,
   "id": "62e3d1f7",
   "metadata": {},
   "outputs": [],
   "source": [
    "medias_df = medias.reset_index()\n",
    "medias_df.columns = [\"dia_semana\", \"pontuacao\"]"
   ]
  },
  {
   "cell_type": "code",
   "execution_count": null,
   "id": "6d26f9a2",
   "metadata": {},
   "outputs": [],
   "source": [
    "medias_df = medias_df.sort_values(\"pontuacao\", ascending=True)"
   ]
  },
  {
   "cell_type": "code",
   "execution_count": null,
   "id": "06b8f0c3",
   "metadata": {},
   "outputs": [],
   "source": [
    "medias_df"
   ]
  },
  {
   "cell_type": "code",
   "execution_count": null,
   "id": "dbe7a9c1",
   "metadata": {},
   "outputs": [],
   "source": [
    "plt.figure(figsize=(16, 8))\n",
    "sns.barplot(data=medias_df, x=\"dia_semana\", y=\"pontuacao\", order=medias_df[\"dia_semana\"])\n",
    "plt.title(\"Média de Pontuação por dia da Semana\", size=16)\n",
    "plt.xlabel(\"Dia da Semana\", size=14)\n",
    "plt.ylabel(\"Pontuação\", size=14)\n",
    "plt.tight_layout()\n",
    "plt.show()"
   ]
  },
  {
   "cell_type": "code",
   "execution_count": null,
   "id": "2154e0f4",
   "metadata": {},
   "outputs": [],
   "source": [
    "# segunda = data.loc[data[\"dia_semana\"] == \"segunda-feira\", \"pontuacao\"].tolist()\n",
    "# terca = data.loc[data[\"dia_semana\"] == \"terça-feira\", \"pontuacao\"].tolist()\n",
    "# quarta = data.loc[data[\"dia_semana\"] == \"quarta-feira\", \"pontuacao\"].tolist()\n",
    "# quinta = data.loc[data[\"dia_semana\"] == \"quinta-feira\", \"pontuacao\"].tolist()\n",
    "# sexta = data.loc[data[\"dia_semana\"] == \"sexta-feira\", \"pontuacao\"].tolist()\n",
    "# sabado = data.loc[data[\"dia_semana\"] == \"sábado\", \"pontuacao\"].tolist()\n",
    "# domingo = data.loc[data[\"dia_semana\"] == \"domingo\", \"pontuacao\"].tolist()\n",
    "\n",
    "# import numpy as np\n",
    "\n",
    "# media_segunda = np.mean(segunda)\n",
    "# media_terca = np.mean(terca)\n",
    "# media_quarta = np.mean(quarta)\n",
    "# media_quinta = np.mean(quinta)\n",
    "# media_sexta = np.mean(sexta)\n",
    "# media_sabado = np.mean(sabado)\n",
    "# media_domingo = np.mean(domingo)"
   ]
  },
  {
   "cell_type": "code",
   "execution_count": null,
   "id": "0712c270",
   "metadata": {},
   "outputs": [],
   "source": [
    "data_ordenado = data.sort_values(by=\"pontuacao\", ascending=False)\n",
    "maiores = data_ordenado.head(15)\n",
    "menores = data_ordenado.tail(15)"
   ]
  },
  {
   "cell_type": "code",
   "execution_count": null,
   "id": "6cf2c156",
   "metadata": {},
   "outputs": [],
   "source": [
    "maiores_dias_semana = maiores[\"dia_semana\"].value_counts()\n",
    "maiores_dias_semana"
   ]
  },
  {
   "cell_type": "code",
   "execution_count": null,
   "id": "d5f3ae47",
   "metadata": {},
   "outputs": [],
   "source": [
    "menores_dias_semana = menores[\"dia_semana\"].value_counts()\n",
    "menores_dias_semana"
   ]
  },
  {
   "cell_type": "code",
   "execution_count": null,
   "id": "c5dd3a49",
   "metadata": {},
   "outputs": [],
   "source": [
    "maiores"
   ]
  },
  {
   "cell_type": "code",
   "execution_count": null,
   "id": "583ce1c3",
   "metadata": {},
   "outputs": [],
   "source": [
    "media_pontuacao_maiores = maiores[\"pontuacao\"].mean().round(2)\n",
    "media_duracao_maiores = maiores[\"duracao\"].mean().round(2)\n",
    "media_sono_leve_perc_maiores = maiores[\"sono_leve_perc\"].mean().round(2)\n",
    "media_sono_profundo_perc_maiores = maiores[\"sono_profundo_perc\"].mean().round(2)\n",
    "media_rem_perc_maiores = maiores[\"REM_perc\"].mean().round(2)\n",
    "media_tempo_acordado_maiores = maiores[\"tempo_acordado\"].mean().round(2)\n",
    "media_vezes_acordado_maiores = maiores[\"vezes_acordado\"].mean().round(2)"
   ]
  },
  {
   "cell_type": "code",
   "execution_count": null,
   "id": "4a843153",
   "metadata": {},
   "outputs": [],
   "source": [
    "media_pontuacao_menores = menores[\"pontuacao\"].mean().round(2)\n",
    "media_duracao_menores = menores[\"duracao\"].mean().round(2)\n",
    "media_sono_leve_perc_menores = menores[\"sono_leve_perc\"].mean().round(2)\n",
    "media_sono_profundo_perc_menores = menores[\"sono_profundo_perc\"].mean().round(2)\n",
    "media_rem_perc_menores = menores[\"REM_perc\"].mean().round(2)\n",
    "media_tempo_acordado_menores = menores[\"tempo_acordado\"].mean().round(2)\n",
    "media_vezes_acordado_menores = menores[\"vezes_acordado\"].mean().round(2)"
   ]
  },
  {
   "cell_type": "code",
   "execution_count": null,
   "id": "84d2ec3e",
   "metadata": {},
   "outputs": [],
   "source": [
    "print(\"Média das Maiores 15 Pontuações registradas\")\n",
    "print(\"-------------------------------------------\")\n",
    "print(f\"Pontuação: {media_pontuacao_maiores}\")\n",
    "print(f\"Duração: {media_duracao_maiores}\")\n",
    "print(f\"Sono Leve %: {media_sono_leve_perc_maiores}\")\n",
    "print(f\"Sono Profundo %: {media_sono_profundo_perc_maiores}\")\n",
    "print(f\"REM %: {media_rem_perc_maiores}\")\n",
    "print(f\"Tempo acordado: {media_tempo_acordado_maiores}\")\n",
    "print(f\"Vezes acordado: {media_vezes_acordado_maiores}\")\n"
   ]
  },
  {
   "cell_type": "code",
   "execution_count": null,
   "id": "4e99be22",
   "metadata": {},
   "outputs": [],
   "source": [
    "print(\"Média das Menores 15 Pontuações registradas\")\n",
    "print(\"-------------------------------------------\")\n",
    "print(f\"Pontuação: {media_pontuacao_menores}\")\n",
    "print(f\"Duração: {media_duracao_menores}\")\n",
    "print(f\"Sono Leve (%): {media_sono_leve_perc_menores}\")\n",
    "print(f\"Sono Profundo (%): {media_sono_profundo_perc_menores}\")\n",
    "print(f\"REM (%): {media_rem_perc_menores}\")\n",
    "print(f\"Tempo acordado: {media_tempo_acordado_menores}\")\n",
    "print(f\"Vezes acordado: {media_vezes_acordado_menores}\")\n",
    "print(\"-------------------------------------------\")"
   ]
  },
  {
   "cell_type": "code",
   "execution_count": null,
   "id": "8a4540ec",
   "metadata": {},
   "outputs": [],
   "source": [
    "print(\"Diferença entre as Maior e Menor\")\n",
    "print(\"--------------------------------\")\n",
    "print(f\"Pontuação: {media_pontuacao_maiores - media_pontuacao_menores:.2f}\")\n",
    "print(f\"Duração: {media_duracao_maiores - media_duracao_menores:.2f}\")\n",
    "print(f\"Sono Leve (%): {media_sono_leve_perc_maiores - media_sono_leve_perc_menores:.2f}\")\n",
    "print(f\"Sono Profundo (%): {media_sono_profundo_perc_maiores - media_sono_profundo_perc_menores:.2f}\")\n",
    "print(f\"REM (%): {media_rem_perc_maiores - media_rem_perc_menores:.2f}\")\n",
    "print(f\"Tempo acordado: {media_tempo_acordado_maiores - media_tempo_acordado_menores:.2f}\")\n",
    "print(f\"Vezes acordado: {media_vezes_acordado_maiores - media_vezes_acordado_menores:.2f}\")\n",
    "print(\"--------------------------------\")"
   ]
  }
 ],
 "metadata": {
  "kernelspec": {
   "display_name": "venv",
   "language": "python",
   "name": "python3"
  },
  "language_info": {
   "codemirror_mode": {
    "name": "ipython",
    "version": 3
   },
   "file_extension": ".py",
   "mimetype": "text/x-python",
   "name": "python",
   "nbconvert_exporter": "python",
   "pygments_lexer": "ipython3",
   "version": "3.13.7"
  }
 },
 "nbformat": 4,
 "nbformat_minor": 5
}

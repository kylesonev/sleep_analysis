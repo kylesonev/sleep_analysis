{
 "cells": [
  {
   "cell_type": "code",
   "execution_count": 1,
   "id": "3f345978",
   "metadata": {},
   "outputs": [],
   "source": [
    "import pandas as pd\n",
    "import numpy as np\n",
    "import matplotlib.pyplot as plt\n",
    "import seaborn as sns\n",
    "\n",
    "\n",
    "from sklearn.model_selection import RepeatedKFold, train_test_split, RandomizedSearchCV, cross_val_score\n",
    "from sklearn.preprocessing import StandardScaler\n",
    "from sklearn.ensemble import HistGradientBoostingRegressor, RandomForestRegressor\n",
    "from sklearn.compose import ColumnTransformer\n",
    "from sklearn.pipeline import Pipeline\n",
    "from sklearn.metrics import mean_absolute_error, mean_squared_error, r2_score, mean_absolute_percentage_error\n",
    "from sklearn.linear_model import LinearRegression, Ridge, Lasso\n",
    "\n",
    "sns.set_theme()"
   ]
  },
  {
   "cell_type": "code",
   "execution_count": 2,
   "id": "3ca7c9ea",
   "metadata": {},
   "outputs": [],
   "source": [
    "# Carregar dados\n",
    "data = pd.read_csv(\"../data/cleaned.csv\", parse_dates=[\"data\"])\n",
    "\n",
    "# Criar features temporais otimizadas\n",
    "data['data'] = pd.to_datetime(data['data'])\n",
    "data['dia_semana'] = data['data'].dt.dayofweek \n",
    "data['fim_de_semana'] = data['dia_semana'].isin([5,6]).astype(int)\n",
    "\n",
    "# Definir target e features (versão simplificada)\n",
    "y = data[\"pontuacao\"]\n",
    "\n",
    "num_cols = [\n",
    "    \"regularidade\", \"duracao\", \"sono_leve_perc\", \"sono_profundo_perc\", \"REM_perc\",\n",
    "    \"tempo_acordado\", \"vezes_acordado\", \"dia_semana\", \"fim_de_semana\"\n",
    "]\n",
    "\n",
    "X = data[num_cols]"
   ]
  },
  {
   "cell_type": "code",
   "execution_count": null,
   "id": "7afc5742",
   "metadata": {},
   "outputs": [],
   "source": [
    "X"
   ]
  },
  {
   "cell_type": "code",
   "execution_count": null,
   "id": "2acffbc8",
   "metadata": {},
   "outputs": [],
   "source": [
    "# # Apenas numéricas - escalonamento padrão\n",
    "# preproc = ColumnTransformer([\n",
    "#     ('num', StandardScaler(), num_cols)\n",
    "# ])\n",
    "\n",
    "# # Validação cruzada otimizada\n",
    "# cv = RepeatedKFold(n_splits=5, n_repeats=10, random_state=42)"
   ]
  },
  {
   "cell_type": "code",
   "execution_count": null,
   "id": "5215e758",
   "metadata": {},
   "outputs": [],
   "source": [
    "# def optimize_model(model, param_dist, model_name, X, y):\n",
    "#     \"\"\"Função simplificada para otimização de modelos\"\"\"\n",
    "#     pipeline = Pipeline([\n",
    "#         (\"preproc\", preproc),\n",
    "#         (\"model\", model)\n",
    "#     ])\n",
    "    \n",
    "#     search = RandomizedSearchCV(\n",
    "#         pipeline, param_distributions=param_dist,\n",
    "#         n_iter=10, cv=cv, scoring=\"neg_mean_absolute_error\",\n",
    "#         random_state=42, n_jobs=-1\n",
    "#     )\n",
    "    \n",
    "#     search.fit(X, y)\n",
    "#     best_model = search.best_estimator_\n",
    "#     best_mae = -search.best_score_\n",
    "    \n",
    "#     print(f\"Melhores hiperparâmetros {model_name}: {search.best_params_}\")\n",
    "#     print(f\"MAE (CV): {best_mae:.4f}\\n\")\n",
    "    \n",
    "#     return best_model, best_mae"
   ]
  },
  {
   "cell_type": "code",
   "execution_count": 3,
   "id": "f457ef67",
   "metadata": {},
   "outputs": [],
   "source": [
    "X_train, X_test, y_train, y_test = train_test_split(\n",
    "    X, y, test_size=0.2, random_state=42, \n",
    ")"
   ]
  },
  {
   "cell_type": "markdown",
   "id": "34d68634",
   "metadata": {},
   "source": [
    "### Lasso"
   ]
  },
  {
   "cell_type": "code",
   "execution_count": 7,
   "id": "ee6f2b1a",
   "metadata": {},
   "outputs": [
    {
     "name": "stdout",
     "output_type": "stream",
     "text": [
      "\n",
      "=== AVALIAÇÃO NO TEST SET ===\n",
      "MAE: 3.7763\n",
      "MSE: 20.8802\n",
      "MAPE: 0.0494\n",
      "RMSE: 4.5695\n",
      "R²: 0.6992\n"
     ]
    }
   ],
   "source": [
    "# lasso_model, mae_lasso = optimize_model(\n",
    "#     model=Lasso(random_state=42),\n",
    "#     param_dist={\"model__alpha\": [0.01, 0.1, 1.0, 10], \n",
    "#                 \"model__max_iter\": [500, 1000, 2000]},\n",
    "#     model_name=\"Lasso\", \n",
    "#     X=X, \n",
    "#     y=y\n",
    "# )\n",
    "\n",
    "# # Treinar melhor modelo\n",
    "# lasso_model.fit(X_train, y_train)\n",
    "# y_pred = lasso_model.predict(X_test)\n",
    "\n",
    "# # Métricas de avaliação\n",
    "# mae_test = mean_absolute_error(y_test, y_pred)\n",
    "# mse_test = mean_squared_error(y_test, y_pred)\n",
    "# mape_test = mean_absolute_percentage_error(y_test, y_pred)\n",
    "# rmse_test = np.sqrt(mse_test)\n",
    "# r2_test = r2_score(y_test, y_pred)\n",
    "\n",
    "# print(\"\\n=== AVALIAÇÃO NO TEST SET ===\")\n",
    "# print(f\"MAE: {mae_test:.4f}\")\n",
    "# print(f\"MSE: {mse_test:.4f}\")\n",
    "# print(f\"MAPE: {mape_test:.4f}\")\n",
    "# print(f\"RMSE: {rmse_test:.4f}\")\n",
    "# print(f\"R²: {r2_test:.4f}\")\n",
    "\n",
    "# Treinar melhor modelo\n",
    "lasso_model = Lasso()\n",
    "lasso_model.fit(X_train, y_train)\n",
    "y_pred = lasso_model.predict(X_test)\n",
    "\n",
    "# Métricas de avaliação\n",
    "mae_test = mean_absolute_error(y_test, y_pred)\n",
    "mse_test = mean_squared_error(y_test, y_pred)\n",
    "mape_test = mean_absolute_percentage_error(y_test, y_pred)\n",
    "rmse_test = np.sqrt(mse_test)\n",
    "r2_test = r2_score(y_test, y_pred)\n",
    "\n",
    "print(\"\\n=== AVALIAÇÃO NO TEST SET ===\")\n",
    "print(f\"MAE: {mae_test:.4f}\")\n",
    "print(f\"MSE: {mse_test:.4f}\")\n",
    "print(f\"MAPE: {mape_test:.4f}\")\n",
    "print(f\"RMSE: {rmse_test:.4f}\")\n",
    "print(f\"R²: {r2_test:.4f}\")\n"
   ]
  },
  {
   "cell_type": "markdown",
   "id": "9c09be10",
   "metadata": {},
   "source": [
    "### Ridge"
   ]
  },
  {
   "cell_type": "code",
   "execution_count": null,
   "id": "b38ef1e4",
   "metadata": {},
   "outputs": [],
   "source": [
    "ridge_model, mae_ridge = optimize_model(\n",
    "    model=Ridge(random_state=42),\n",
    "    param_dist={\n",
    "        \"model__alpha\": [0.1, 1.0, 10.0, 50],\n",
    "        \"model__solver\": [\"auto\", \"svd\", \"cholesky\", \"lsqr\"]\n",
    "    },\n",
    "    model_name=\"Ridge\", \n",
    "    X=X, \n",
    "    y=y\n",
    ")\n",
    "# Treinar melhor modelo\n",
    "ridge_model.fit(X_train, y_train)\n",
    "y_pred = ridge_model.predict(X_test)\n",
    "\n",
    "# Métricas de avaliação\n",
    "mae_test = mean_absolute_error(y_test, y_pred)\n",
    "mse_test = mean_squared_error(y_test, y_pred)\n",
    "mape_test = mean_absolute_percentage_error(y_test, y_pred)\n",
    "rmse_test = np.sqrt(mse_test)\n",
    "r2_test = r2_score(y_test, y_pred)\n",
    "\n",
    "print(\"\\n=== AVALIAÇÃO NO TEST SET ===\")\n",
    "print(f\"MAE: {mae_test:.4f}\")\n",
    "print(f\"MSE: {mse_test:.4f}\")\n",
    "print(f\"MAPE: {mape_test:.4f}\")\n",
    "print(f\"RMSE: {rmse_test:.4f}\")\n",
    "print(f\"R²: {r2_test:.4f}\")"
   ]
  },
  {
   "cell_type": "markdown",
   "id": "3f4c08f4",
   "metadata": {},
   "source": [
    "### HistGradient Boosting Regressor"
   ]
  },
  {
   "cell_type": "code",
   "execution_count": null,
   "id": "43dcdcee",
   "metadata": {},
   "outputs": [],
   "source": [
    "hgb_model, mae_hgb = optimize_model(\n",
    "    model=HistGradientBoostingRegressor(random_state=42),\n",
    "    param_dist={\n",
    "        \"model__max_iter\": [100, 300, 500],\n",
    "        \"model__max_depth\": [3, 5, 10, None],\n",
    "        \"model__min_samples_leaf\": [20, 50, 100],\n",
    "        \"model__learning_rate\": [0.01, 0.1, 0.2]\n",
    "    },\n",
    "    model_name=\"HGB\",\n",
    "    X=X,\n",
    "    y=y\n",
    ")\n",
    "# Treinar melhor modelo\n",
    "hgb_model.fit(X_train, y_train)\n",
    "y_pred = hgb_model.predict(X_test)\n",
    "\n",
    "# Métricas de avaliação\n",
    "mae_test = mean_absolute_error(y_test, y_pred)\n",
    "mse_test = mean_squared_error(y_test, y_pred)\n",
    "mape_test = mean_absolute_percentage_error(y_test, y_pred)\n",
    "rmse_test = np.sqrt(mse_test)\n",
    "r2_test = r2_score(y_test, y_pred)\n",
    "\n",
    "print(\"\\n=== AVALIAÇÃO NO TEST SET ===\")\n",
    "print(f\"MAE: {mae_test:.4f}\")\n",
    "print(f\"MSE: {mse_test:.4f}\")\n",
    "print(f\"MAPE: {mape_test:.4f}\")\n",
    "print(f\"RMSE: {rmse_test:.4f}\")\n",
    "print(f\"R²: {r2_test:.4f}\")"
   ]
  },
  {
   "cell_type": "code",
   "execution_count": null,
   "id": "0a42b556",
   "metadata": {},
   "outputs": [],
   "source": [
    "model = HistGradientBoostingRegressor(\n",
    "    random_state=42\n",
    ")\n",
    "\n",
    "# Treinar melhor modelo\n",
    "model.fit(X_train, y_train)\n",
    "y_pred = model.predict(X_test)\n",
    "\n",
    "# Métricas de avaliação\n",
    "mae_test = mean_absolute_error(y_test, y_pred)\n",
    "mse_test = mean_squared_error(y_test, y_pred)\n",
    "mape_test = mean_absolute_percentage_error(y_test, y_pred)\n",
    "rmse_test = np.sqrt(mse_test)\n",
    "r2_test = r2_score(y_test, y_pred)\n",
    "\n",
    "print(\"\\n=== AVALIAÇÃO NO TEST SET ===\")\n",
    "print(f\"MAE: {mae_test:.4f}\")\n",
    "print(f\"MSE: {mse_test:.4f}\")\n",
    "print(f\"MAPE: {mape_test:.4f}\")\n",
    "print(f\"RMSE: {rmse_test:.4f}\")\n",
    "print(f\"R²: {r2_test:.4f}\")"
   ]
  },
  {
   "cell_type": "markdown",
   "id": "8167f469",
   "metadata": {},
   "source": [
    "### Random Forest Regressor"
   ]
  },
  {
   "cell_type": "code",
   "execution_count": null,
   "id": "156c21ab",
   "metadata": {},
   "outputs": [],
   "source": [
    "random_forest_model, mae_random_forest = optimize_model(\n",
    "    model=RandomForestRegressor(random_state=42),\n",
    "    param_dist={\n",
    "        \"model__n_estimators\": [100, 300, 500],\n",
    "        \"model__max_depth\": [None, 5, 10, 20],\n",
    "        \"model__min_samples_leaf\": [1, 2, 4],\n",
    "        \"model__max_features\": [\"sqrt\", \"log2\", 0.5]\n",
    "    },\n",
    "    model_name=\"HGB\",\n",
    "    X=X,\n",
    "    y=y\n",
    ")"
   ]
  },
  {
   "cell_type": "markdown",
   "id": "fb02ad50",
   "metadata": {},
   "source": [
    "### Linear Regression"
   ]
  },
  {
   "cell_type": "code",
   "execution_count": null,
   "id": "aa8850d9",
   "metadata": {},
   "outputs": [],
   "source": [
    "linear_pipeline = Pipeline([\n",
    "    (\"preproc\", preproc),\n",
    "    (\"model\", LinearRegression())\n",
    "])\n",
    "\n",
    "linear_scores = -cross_val_score(\n",
    "    linear_pipeline, X, y, cv=cv, \n",
    "    scoring=\"neg_mean_absolute_error\"\n",
    ")\n",
    "mae_linear = linear_scores.mean()\n",
    "print(f\"Linear Regression MAE (CV): {mae_linear:.4f}\\n\")\n",
    "linear_model = LinearRegression()\n"
   ]
  },
  {
   "cell_type": "markdown",
   "id": "cc9d6c03",
   "metadata": {},
   "source": [
    "### Comparação de Modelos"
   ]
  },
  {
   "cell_type": "code",
   "execution_count": null,
   "id": "d655fcad",
   "metadata": {},
   "outputs": [],
   "source": [
    "# Comparar desempenho\n",
    "models_comparison = {\n",
    "    \"Linear Regression\": mae_linear,\n",
    "    \"Lasso\": mae_lasso,\n",
    "    \"Ridge\": mae_ridge,\n",
    "    \"HistGradientBoosting\": mae_hgb,\n",
    "    \"Random Forest\": mae_random_forest\n",
    "}\n",
    "\n",
    "# Guardar os modelos em outro dicionário\n",
    "trained_models = {\n",
    "    \"Linear Regression\": linear_model,\n",
    "    \"Lasso\": lasso_model,\n",
    "    \"Ridge\": ridge_model,\n",
    "    \"HistGradientBoosting\": hgb_model,\n",
    "    \"Random Forest\": random_forest_model\n",
    "}\n",
    "\n",
    "# Identificar o melhor\n",
    "best_model_name = min(models_comparison, key=models_comparison.get)\n",
    "best_model = trained_models[best_model_name]\n",
    "\n",
    "print(\"=== COMPARAÇÃO DE MODELOS ===\")\n",
    "for model, mae in models_comparison.items():\n",
    "    print(f\"{model}: {mae:.4f}\")\n",
    "\n",
    "print(f\"\\nMELHOR MODELO: {best_model_name}\")\n"
   ]
  },
  {
   "cell_type": "code",
   "execution_count": null,
   "id": "a06daa83",
   "metadata": {},
   "outputs": [],
   "source": [
    "# Dividir dados (mantendo ordem temporal)\n",
    "X_train, X_test, y_train, y_test = train_test_split(\n",
    "    X, y, test_size=0.2, random_state=42, \n",
    ")\n",
    "\n",
    "# Treinar melhor modelo\n",
    "hgb_model.fit(X_train, y_train)\n",
    "y_pred = hgb_model.predict(X_test)\n",
    "\n",
    "# Métricas de avaliação\n",
    "mae_test = mean_absolute_error(y_test, y_pred)\n",
    "mse_test = mean_squared_error(y_test, y_pred)\n",
    "mape_test = mean_absolute_percentage_error(y_test, y_pred)\n",
    "rmse_test = np.sqrt(mse_test)\n",
    "r2_test = r2_score(y_test, y_pred)\n",
    "\n",
    "print(\"\\n=== AVALIAÇÃO NO TEST SET ===\")\n",
    "print(f\"MAE: {mae_test:.4f}\")\n",
    "print(f\"MSE: {mse_test:.4f}\")\n",
    "print(f\"MAPE: {mape_test:.4f}\")\n",
    "print(f\"RMSE: {rmse_test:.4f}\")\n",
    "print(f\"R²: {r2_test:.4f}\")"
   ]
  },
  {
   "cell_type": "code",
   "execution_count": null,
   "id": "9752af71",
   "metadata": {},
   "outputs": [],
   "source": [
    "# Gráfico de dispersão: Previsões vs Valores Reais\n",
    "plt.figure(figsize=(10, 6))\n",
    "plt.scatter(y_test, y_pred, alpha=0.7)\n",
    "plt.plot([y_test.min(), y_test.max()], [y_test.min(), y_test.max()], 'r--', lw=2)\n",
    "plt.xlabel('Valor Real')\n",
    "plt.ylabel('Predição')\n",
    "plt.title(f'Predições vs Valores Reais - {best_model_name}')\n",
    "plt.grid(True, alpha=0.3)\n",
    "plt.show()\n",
    "\n",
    "# Gráfico de resíduos\n",
    "residuals = y_test - y_pred\n",
    "plt.figure(figsize=(10, 6))\n",
    "plt.scatter(y_pred, residuals, alpha=0.7)\n",
    "plt.axhline(y=0, color='r', linestyle='--')\n",
    "plt.xlabel('Predições')\n",
    "plt.ylabel('Resíduos')\n",
    "plt.title('Análise de Resíduos')\n",
    "plt.grid(True, alpha=0.3)\n",
    "plt.show()"
   ]
  },
  {
   "cell_type": "code",
   "execution_count": null,
   "id": "71929f1f",
   "metadata": {},
   "outputs": [],
   "source": [
    "def predict_sono_quality(model, features_dict):\n",
    "    \"\"\"Função para fazer previsões com novo dados\"\"\"\n",
    "    # Converter para DataFrame\n",
    "    input_df = pd.DataFrame([features_dict])\n",
    "    \n",
    "    # Fazer previsão\n",
    "    prediction = model.predict(input_df)[0]\n",
    "    \n",
    "    print(f\"Previsão de pontuação de sono: {prediction:.1f}/100\")\n",
    "    return prediction\n"
   ]
  },
  {
   "cell_type": "code",
   "execution_count": 8,
   "id": "fddaea9f",
   "metadata": {},
   "outputs": [
    {
     "ename": "NameError",
     "evalue": "name 'best_model' is not defined",
     "output_type": "error",
     "traceback": [
      "\u001b[31m---------------------------------------------------------------------------\u001b[39m",
      "\u001b[31mNameError\u001b[39m                                 Traceback (most recent call last)",
      "\u001b[36mCell\u001b[39m\u001b[36m \u001b[39m\u001b[32mIn[8]\u001b[39m\u001b[32m, line 2\u001b[39m\n\u001b[32m      1\u001b[39m \u001b[38;5;66;03m# Verifica se o modelo tem coeficientes ou feature_importances_\u001b[39;00m\n\u001b[32m----> \u001b[39m\u001b[32m2\u001b[39m \u001b[38;5;28;01mif\u001b[39;00m \u001b[38;5;28mhasattr\u001b[39m(\u001b[43mbest_model\u001b[49m.named_steps[\u001b[33m\"\u001b[39m\u001b[33mmodel\u001b[39m\u001b[33m\"\u001b[39m], \u001b[33m\"\u001b[39m\u001b[33mcoef_\u001b[39m\u001b[33m\"\u001b[39m):\n\u001b[32m      3\u001b[39m     importances = best_model.named_steps[\u001b[33m\"\u001b[39m\u001b[33mmodel\u001b[39m\u001b[33m\"\u001b[39m].coef_\n\u001b[32m      4\u001b[39m \u001b[38;5;28;01melif\u001b[39;00m \u001b[38;5;28mhasattr\u001b[39m(best_model.named_steps[\u001b[33m\"\u001b[39m\u001b[33mmodel\u001b[39m\u001b[33m\"\u001b[39m], \u001b[33m\"\u001b[39m\u001b[33mfeature_importances_\u001b[39m\u001b[33m\"\u001b[39m):\n",
      "\u001b[31mNameError\u001b[39m: name 'best_model' is not defined"
     ]
    }
   ],
   "source": [
    "# Verifica se o modelo tem coeficientes ou feature_importances_\n",
    "if hasattr(best_model.named_steps[\"model\"], \"coef_\"):\n",
    "    importances = best_model.named_steps[\"model\"].coef_\n",
    "elif hasattr(best_model.named_steps[\"model\"], \"feature_importances_\"):\n",
    "    importances = best_model.named_steps[\"model\"].feature_importances_\n",
    "else:\n",
    "    print(\"Modelo não possui coeficientes nem feature_importances_\")\n",
    "    importances = None\n",
    "\n",
    "if importances is not None:\n",
    "    # Cria DataFrame com importâncias\n",
    "    feat_imp = pd.DataFrame({\n",
    "        \"feature\": num_cols,\n",
    "        \"importance\": importances\n",
    "    }).sort_values(\"importance\", key=abs, ascending=False)\n",
    "    \n",
    "    # Limita às 15 features mais importantes\n",
    "    feat_imp = feat_imp.head(15)\n",
    "    \n",
    "    # Cria o gráfico\n",
    "    plt.figure(figsize=(10, 8))\n",
    "    colors = ['red' if x < 0 else 'green' for x in feat_imp['importance']]\n",
    "    \n",
    "    sns.barplot(data=feat_imp, x=\"importance\", y=\"feature\", palette=colors)\n",
    "    plt.title(\"Importância das Variáveis\", fontsize=14, fontweight='bold')\n",
    "    plt.xlabel(\"Importância\", fontsize=12)\n",
    "    plt.ylabel(\"Variáveis\", fontsize=12)\n",
    "    plt.axvline(x=0, color='black', linestyle='-', alpha=0.3)\n",
    "    plt.tight_layout()\n",
    "    plt.show()"
   ]
  },
  {
   "cell_type": "code",
   "execution_count": null,
   "id": "5cf3dd12",
   "metadata": {},
   "outputs": [],
   "source": [
    "# # Exemplo de uso:\n",
    "# exemplo_dados = {\n",
    "#     \"regularidade\": 45,\n",
    "#     \"duracao\": 500,\n",
    "#     \"sono_leve_perc\": 65.0,\n",
    "#     \"sono_profundo_perc\": 15.0,\n",
    "#     \"REM_perc\": 20.0,\n",
    "#     \"tempo_acordado\": 10,\n",
    "#     \"vezes_acordado\": 2,\n",
    "#     \"ds_sin\": 0.0,\n",
    "#     \"ds_cos\": 1.0,\n",
    "#     \"fim_de_semana\": 1\n",
    "# }\n",
    "# predict_sono_quality(best_model, exemplo_dados)"
   ]
  },
  {
   "cell_type": "code",
   "execution_count": null,
   "id": "e298ff86",
   "metadata": {},
   "outputs": [],
   "source": [
    "print(\"=\" * 50)\n",
    "print(\"RESUMO DA MODELAGEM\")\n",
    "print(\"=\" * 50)\n",
    "print(f\"Melhor modelo: {best_model_name}\")\n",
    "print(f\"MAE Cross-Validation: {models_comparison[best_model_name]:.4f}\")\n",
    "print(f\"MAE Test Set: {mae_test:.4f}\")\n",
    "print(f\"R² Score: {r2_test:.4f}\")\n",
    "print(f\"Número de features: {len(num_cols)}\")\n",
    "print(\"=\" * 50)"
   ]
  }
 ],
 "metadata": {
  "kernelspec": {
   "display_name": "venv",
   "language": "python",
   "name": "python3"
  },
  "language_info": {
   "codemirror_mode": {
    "name": "ipython",
    "version": 3
   },
   "file_extension": ".py",
   "mimetype": "text/x-python",
   "name": "python",
   "nbconvert_exporter": "python",
   "pygments_lexer": "ipython3",
   "version": "3.13.7"
  }
 },
 "nbformat": 4,
 "nbformat_minor": 5
}
